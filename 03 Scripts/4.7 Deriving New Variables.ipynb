{
 "cells": [
  {
   "cell_type": "code",
   "execution_count": 1,
   "id": "5d73801a",
   "metadata": {},
   "outputs": [],
   "source": [
    "# Import libraries\n",
    "\n",
    "import pandas as pd\n",
    "import numpy as np\n",
    "import os"
   ]
  },
  {
   "cell_type": "code",
   "execution_count": 4,
   "id": "5f2f25c9",
   "metadata": {},
   "outputs": [],
   "source": [
    "#Import Data\n",
    "path = r'C:\\Users\\Raghu\\Instacart Basket Analysis\\01 Project Management\\02 Data\\03 Scripts\\prepared data\\orders_products_combined.csv'\n"
   ]
  },
  {
   "cell_type": "code",
   "execution_count": 5,
   "id": "b70cb7f9",
   "metadata": {},
   "outputs": [],
   "source": [
    "path = r'\\\\C:\\Users\\Raghu\\Instacart Basket Analysis\\01 Project Management\\02 Data\\03 Scripts\\prepared data\\orders_checked.csv'"
   ]
  },
  {
   "cell_type": "code",
   "execution_count": 6,
   "id": "51050513",
   "metadata": {},
   "outputs": [],
   "source": [
    "path = r'\\\\C:\\Users\\Raghu\\Instacart Basket Analysis\\01 Project Management\\02 Data\\03 Scripts\\prepared data\\prods_data.csv'"
   ]
  },
  {
   "cell_type": "code",
   "execution_count": 7,
   "id": "33c8cfc1",
   "metadata": {},
   "outputs": [],
   "source": [
    "path = r'\\\\C:\\Users\\Raghu\\Instacart Basket Analysis\\01 Project Management\\02 Data\\03 Scripts\\prepared data\\orders_wrangled.csv'"
   ]
  },
  {
   "cell_type": "code",
   "execution_count": 8,
   "id": "f1e42467",
   "metadata": {},
   "outputs": [],
   "source": [
    "#define function\n",
    "def add_num(x,y):\n",
    "    sum = x + y\n",
    "    return sum\n"
   ]
  },
  {
   "cell_type": "code",
   "execution_count": 9,
   "id": "6ea33a11",
   "metadata": {},
   "outputs": [
    {
     "data": {
      "text/plain": [
       "20"
      ]
     },
     "execution_count": 9,
     "metadata": {},
     "output_type": "execute_result"
    }
   ],
   "source": [
    "#run function\n",
    "add_num(9, 11)"
   ]
  },
  {
   "cell_type": "code",
   "execution_count": 22,
   "id": "f133f78f",
   "metadata": {},
   "outputs": [],
   "source": [
    "path = r'C:\\Users\\Raghu\\Instacart Basket Analysis\\01 Project Management\\02 Data\\03 Scripts\\prepared data\\02 Data\\03 Scripts\\Prepared Data\\orders_produts_merged.csv'"
   ]
  },
  {
   "cell_type": "code",
   "execution_count": 23,
   "id": "87f5991d",
   "metadata": {},
   "outputs": [],
   "source": [
    "ords_prods_merge = pd.read_csv(r'C:\\Users\\Raghu\\Instacart Basket Analysis\\01 Project Management\\02 Data\\03 Scripts\\prepared data\\02 Data\\03 Scripts\\Prepared Data\\orders_products_merged.csv')\n"
   ]
  },
  {
   "cell_type": "code",
   "execution_count": 24,
   "id": "08e4748f",
   "metadata": {},
   "outputs": [],
   "source": [
    "df = ords_prods_merge[:1000000]\n"
   ]
  },
  {
   "cell_type": "markdown",
   "id": "2e4800dc",
   "metadata": {},
   "source": [
    "##If-Statements with User-Defined Functions"
   ]
  },
  {
   "cell_type": "code",
   "execution_count": 114,
   "id": "e646b583",
   "metadata": {},
   "outputs": [],
   "source": [
    "def price_label(row):\n",
    "\n",
    "  if row['prices'] <= 5:\n",
    "    return 'Low-range product'\n",
    "  elif (row['prices'] > 5) and (row['prices'] <= 15):\n",
    "    return 'Mid-range product'\n",
    "  elif row['prices'] > 15:\n",
    "    return 'High range'\n",
    "  else: return 'Not enough data'\n"
   ]
  },
  {
   "cell_type": "code",
   "execution_count": 144,
   "id": "cdfc742f",
   "metadata": {},
   "outputs": [],
   "source": [
    "df.loc[:, 'price_range'] = df.apply(price_label, axis=1)\n"
   ]
  },
  {
   "cell_type": "code",
   "execution_count": 145,
   "id": "00ebd220",
   "metadata": {},
   "outputs": [
    {
     "data": {
      "text/plain": [
       "(1000000, 19)"
      ]
     },
     "execution_count": 145,
     "metadata": {},
     "output_type": "execute_result"
    }
   ],
   "source": [
    "df.shape"
   ]
  },
  {
   "cell_type": "code",
   "execution_count": 146,
   "id": "cc8b91ce",
   "metadata": {},
   "outputs": [
    {
     "data": {
      "text/plain": [
       "price_range\n",
       "Mid-range product    672718\n",
       "Low-range product    314908\n",
       "High range            12374\n",
       "Name: count, dtype: int64"
      ]
     },
     "execution_count": 146,
     "metadata": {},
     "output_type": "execute_result"
    }
   ],
   "source": [
    "df['price_range'].value_counts(dropna = False)"
   ]
  },
  {
   "cell_type": "code",
   "execution_count": 147,
   "id": "1519530e",
   "metadata": {},
   "outputs": [
    {
     "data": {
      "text/plain": [
       "99999.0"
      ]
     },
     "execution_count": 147,
     "metadata": {},
     "output_type": "execute_result"
    }
   ],
   "source": [
    "df['prices'].max()\n"
   ]
  },
  {
   "cell_type": "markdown",
   "id": "e054c5b6",
   "metadata": {},
   "source": [
    "## If-Statements with the loc() Function\n"
   ]
  },
  {
   "cell_type": "code",
   "execution_count": 148,
   "id": "9b2b84fc",
   "metadata": {},
   "outputs": [],
   "source": [
    "df.loc[df['prices'] > 15, 'price_range_loc'] = 'High-range product'\n"
   ]
  },
  {
   "cell_type": "code",
   "execution_count": 149,
   "id": "258851bf",
   "metadata": {},
   "outputs": [],
   "source": [
    "df.loc[(df['prices'] <= 15) & (df['prices'] > 5), 'price_range_loc'] = 'Mid-range product' \n"
   ]
  },
  {
   "cell_type": "code",
   "execution_count": 150,
   "id": "fe14b633",
   "metadata": {},
   "outputs": [],
   "source": [
    "df.loc[df['prices'] <= 5, 'price_range_loc'] = 'Low-range product'\n"
   ]
  },
  {
   "cell_type": "code",
   "execution_count": 151,
   "id": "f7218aae",
   "metadata": {},
   "outputs": [
    {
     "data": {
      "text/plain": [
       "price_range_loc\n",
       "Mid-range product     672718\n",
       "Low-range product     314908\n",
       "High-range product     12374\n",
       "Name: count, dtype: int64"
      ]
     },
     "execution_count": 151,
     "metadata": {},
     "output_type": "execute_result"
    }
   ],
   "source": [
    "df['price_range_loc'].value_counts(dropna = False)"
   ]
  },
  {
   "cell_type": "code",
   "execution_count": 153,
   "id": "d7e8087e",
   "metadata": {},
   "outputs": [],
   "source": [
    "ords_prods_merge.loc[ords_prods_merge['prices'] > 15, 'price_range_loc'] = 'High-range product'\n",
    "\n"
   ]
  },
  {
   "cell_type": "code",
   "execution_count": 154,
   "id": "72ce8d7b",
   "metadata": {},
   "outputs": [],
   "source": [
    "ords_prods_merge.loc[(ords_prods_merge['prices'] <= 15) & (df['prices'] > 5), 'price_range_loc'] = 'Mid-range product' \n"
   ]
  },
  {
   "cell_type": "code",
   "execution_count": 155,
   "id": "38ad48d9",
   "metadata": {},
   "outputs": [],
   "source": [
    "ords_prods_merge.loc[ords_prods_merge['prices'] <= 5, 'price_range_loc'] = 'Low-range product'\n"
   ]
  },
  {
   "cell_type": "code",
   "execution_count": 156,
   "id": "1b557de8",
   "metadata": {},
   "outputs": [
    {
     "data": {
      "text/plain": [
       "price_range_loc\n",
       "Mid-range product     672718\n",
       "Low-range product     329691\n",
       "NaN                    33195\n",
       "High-range product     12982\n",
       "Name: count, dtype: int64"
      ]
     },
     "execution_count": 156,
     "metadata": {},
     "output_type": "execute_result"
    }
   ],
   "source": [
    "ords_prods_merge['price_range_loc'].value_counts(dropna = False)"
   ]
  },
  {
   "cell_type": "markdown",
   "id": "6c191006",
   "metadata": {},
   "source": [
    "## If-Statements with For-Loops\n"
   ]
  },
  {
   "cell_type": "code",
   "execution_count": 56,
   "id": "c18058f7",
   "metadata": {},
   "outputs": [
    {
     "name": "stdout",
     "output_type": "stream",
     "text": [
      "my age is 30\n"
     ]
    }
   ],
   "source": [
    "print(\"my age is 30\")"
   ]
  },
  {
   "cell_type": "code",
   "execution_count": 57,
   "id": "41da752f",
   "metadata": {},
   "outputs": [
    {
     "name": "stdout",
     "output_type": "stream",
     "text": [
      "my age is 31\n"
     ]
    }
   ],
   "source": [
    "print(\"my age is 31\")"
   ]
  },
  {
   "cell_type": "code",
   "execution_count": 58,
   "id": "8de2657e",
   "metadata": {},
   "outputs": [
    {
     "name": "stdout",
     "output_type": "stream",
     "text": [
      "my age is 32\n"
     ]
    }
   ],
   "source": [
    "print(\"my age is 32\")"
   ]
  },
  {
   "cell_type": "code",
   "execution_count": 59,
   "id": "8a2c6161",
   "metadata": {},
   "outputs": [
    {
     "name": "stdout",
     "output_type": "stream",
     "text": [
      "my age is 33\n"
     ]
    }
   ],
   "source": [
    "print(\"my age is 33\")"
   ]
  },
  {
   "cell_type": "code",
   "execution_count": 62,
   "id": "ca5c4ac3",
   "metadata": {},
   "outputs": [
    {
     "name": "stdout",
     "output_type": "stream",
     "text": [
      "my age is 30\n",
      "my age is 31\n",
      "my age is 32\n",
      "my age is 33\n",
      "my age is 34\n",
      "my age is 35\n",
      "my age is 36\n",
      "my age is 37\n",
      "my age is 38\n",
      "my age is 39\n",
      "my age is 40\n",
      "my age is 41\n",
      "my age is 42\n",
      "my age is 43\n",
      "my age is 44\n"
     ]
    }
   ],
   "source": [
    "for x in range(30, 45):\n",
    "    print(\"my age is %d\" % (x))"
   ]
  },
  {
   "cell_type": "code",
   "execution_count": 64,
   "id": "2036f7bf",
   "metadata": {},
   "outputs": [],
   "source": [
    "ords_prods_merge = pd.read_csv(r'C:\\Users\\Raghu\\Instacart Basket Analysis\\01 Project Management\\02 Data\\03 Scripts\\prepared data\\02 Data\\03 Scripts\\Prepared Data\\orders_products_merged.csv')"
   ]
  },
  {
   "cell_type": "code",
   "execution_count": 157,
   "id": "012c39dc",
   "metadata": {},
   "outputs": [
    {
     "name": "stdout",
     "output_type": "stream",
     "text": [
      "Index(['Unnamed: 0.1', 'product_id', 'product_name', 'aisle_id',\n",
      "       'department_id', 'prices', 'Unnamed: 0', 'order_id', 'user_id',\n",
      "       'order_number', 'order_of_week', 'oder_hour_of _day',\n",
      "       'days_since_prior_order', 'add_to_cart_order', 'reordered', '_merge',\n",
      "       'merge_indicator', 'Busiest day', 'busiest_period_of_day',\n",
      "       'price_range_loc'],\n",
      "      dtype='object')\n"
     ]
    }
   ],
   "source": [
    "print(ords_prods_merge.columns)\n"
   ]
  },
  {
   "cell_type": "code",
   "execution_count": 158,
   "id": "ba97da23",
   "metadata": {},
   "outputs": [
    {
     "data": {
      "text/plain": [
       "order_of_week\n",
       "0    198588\n",
       "1    177955\n",
       "6    147197\n",
       "5    140849\n",
       "2    136797\n",
       "3    123638\n",
       "4    123562\n",
       "Name: count, dtype: int64"
      ]
     },
     "execution_count": 158,
     "metadata": {},
     "output_type": "execute_result"
    }
   ],
   "source": [
    "ords_prods_merge['order_of_week'].value_counts(dropna = False)"
   ]
  },
  {
   "cell_type": "code",
   "execution_count": 159,
   "id": "410a4dc7",
   "metadata": {},
   "outputs": [],
   "source": [
    "for value in ords_prods_merge[\"order_of_week\"]:\n",
    "  if value == 0:\n",
    "        result.append(\"Busiest day\")\n",
    "  elif value == 4:\n",
    "    result.append(\"Least busy\")\n",
    "  else:\n",
    "    result.append(\"Regularly busy\")\n"
   ]
  },
  {
   "cell_type": "code",
   "execution_count": 89,
   "id": "f7ee7097",
   "metadata": {},
   "outputs": [
    {
     "data": {
      "text/plain": [
       "['Regularly busy',\n",
       " 'Regularly busy',\n",
       " 'Busiest day',\n",
       " 'Regularly busy',\n",
       " 'Least busy',\n",
       " 'Regularly busy',\n",
       " 'Regularly busy',\n",
       " 'Regularly busy',\n",
       " 'Regularly busy',\n",
       " 'Regularly busy',\n",
       " 'Regularly busy',\n",
       " 'Regularly busy',\n",
       " 'Least busy',\n",
       " 'Regularly busy',\n",
       " 'Regularly busy',\n",
       " 'Regularly busy',\n",
       " 'Regularly busy',\n",
       " 'Regularly busy',\n",
       " 'Regularly busy',\n",
       " 'Regularly busy',\n",
       " 'Regularly busy',\n",
       " 'Regularly busy',\n",
       " 'Regularly busy',\n",
       " 'Regularly busy',\n",
       " 'Regularly busy',\n",
       " 'Busiest day',\n",
       " 'Busiest day',\n",
       " 'Busiest day',\n",
       " 'Busiest day',\n",
       " 'Busiest day',\n",
       " 'Least busy',\n",
       " 'Regularly busy',\n",
       " 'Regularly busy',\n",
       " 'Busiest day',\n",
       " 'Regularly busy',\n",
       " 'Regularly busy',\n",
       " 'Least busy',\n",
       " 'Regularly busy',\n",
       " 'Busiest day',\n",
       " 'Regularly busy',\n",
       " 'Busiest day',\n",
       " 'Least busy',\n",
       " 'Busiest day',\n",
       " 'Regularly busy',\n",
       " 'Regularly busy',\n",
       " 'Regularly busy',\n",
       " 'Regularly busy',\n",
       " 'Regularly busy',\n",
       " 'Regularly busy',\n",
       " 'Regularly busy',\n",
       " 'Regularly busy',\n",
       " 'Regularly busy',\n",
       " 'Regularly busy',\n",
       " 'Regularly busy',\n",
       " 'Regularly busy',\n",
       " 'Busiest day',\n",
       " 'Regularly busy',\n",
       " 'Regularly busy',\n",
       " 'Busiest day',\n",
       " 'Regularly busy',\n",
       " 'Busiest day',\n",
       " 'Regularly busy',\n",
       " 'Regularly busy',\n",
       " 'Regularly busy',\n",
       " 'Regularly busy',\n",
       " 'Regularly busy',\n",
       " 'Regularly busy',\n",
       " 'Busiest day',\n",
       " 'Regularly busy',\n",
       " 'Regularly busy',\n",
       " 'Regularly busy',\n",
       " 'Busiest day',\n",
       " 'Busiest day',\n",
       " 'Regularly busy',\n",
       " 'Regularly busy',\n",
       " 'Least busy',\n",
       " 'Least busy',\n",
       " 'Least busy',\n",
       " 'Busiest day',\n",
       " 'Regularly busy',\n",
       " 'Regularly busy',\n",
       " 'Regularly busy',\n",
       " 'Regularly busy',\n",
       " 'Least busy',\n",
       " 'Regularly busy',\n",
       " 'Least busy',\n",
       " 'Regularly busy',\n",
       " 'Regularly busy',\n",
       " 'Busiest day',\n",
       " 'Regularly busy',\n",
       " 'Busiest day',\n",
       " 'Busiest day',\n",
       " 'Regularly busy',\n",
       " 'Regularly busy',\n",
       " 'Least busy',\n",
       " 'Least busy',\n",
       " 'Regularly busy',\n",
       " 'Regularly busy',\n",
       " 'Regularly busy',\n",
       " 'Regularly busy',\n",
       " 'Regularly busy',\n",
       " 'Regularly busy',\n",
       " 'Regularly busy',\n",
       " 'Regularly busy',\n",
       " 'Regularly busy',\n",
       " 'Regularly busy',\n",
       " 'Regularly busy',\n",
       " 'Busiest day',\n",
       " 'Busiest day',\n",
       " 'Regularly busy',\n",
       " 'Regularly busy',\n",
       " 'Least busy',\n",
       " 'Regularly busy',\n",
       " 'Regularly busy',\n",
       " 'Busiest day',\n",
       " 'Regularly busy',\n",
       " 'Regularly busy',\n",
       " 'Busiest day',\n",
       " 'Busiest day',\n",
       " 'Busiest day',\n",
       " 'Busiest day',\n",
       " 'Busiest day',\n",
       " 'Regularly busy',\n",
       " 'Busiest day',\n",
       " 'Busiest day',\n",
       " 'Busiest day',\n",
       " 'Regularly busy',\n",
       " 'Busiest day',\n",
       " 'Regularly busy',\n",
       " 'Regularly busy',\n",
       " 'Regularly busy',\n",
       " 'Regularly busy',\n",
       " 'Regularly busy',\n",
       " 'Regularly busy',\n",
       " 'Regularly busy',\n",
       " 'Regularly busy',\n",
       " 'Regularly busy',\n",
       " 'Regularly busy',\n",
       " 'Regularly busy',\n",
       " 'Regularly busy',\n",
       " 'Least busy',\n",
       " 'Regularly busy',\n",
       " 'Regularly busy',\n",
       " 'Regularly busy',\n",
       " 'Regularly busy',\n",
       " 'Regularly busy',\n",
       " 'Busiest day',\n",
       " 'Regularly busy',\n",
       " 'Regularly busy',\n",
       " 'Regularly busy',\n",
       " 'Regularly busy',\n",
       " 'Regularly busy',\n",
       " 'Regularly busy',\n",
       " 'Regularly busy',\n",
       " 'Regularly busy',\n",
       " 'Regularly busy',\n",
       " 'Regularly busy',\n",
       " 'Regularly busy',\n",
       " 'Regularly busy',\n",
       " 'Least busy',\n",
       " 'Least busy',\n",
       " 'Regularly busy',\n",
       " 'Regularly busy',\n",
       " 'Regularly busy',\n",
       " 'Regularly busy',\n",
       " 'Regularly busy',\n",
       " 'Regularly busy',\n",
       " 'Regularly busy',\n",
       " 'Regularly busy',\n",
       " 'Regularly busy',\n",
       " 'Least busy',\n",
       " 'Regularly busy',\n",
       " 'Least busy',\n",
       " 'Least busy',\n",
       " 'Regularly busy',\n",
       " 'Regularly busy',\n",
       " 'Least busy',\n",
       " 'Least busy',\n",
       " 'Regularly busy',\n",
       " 'Regularly busy',\n",
       " 'Regularly busy',\n",
       " 'Busiest day',\n",
       " 'Regularly busy',\n",
       " 'Regularly busy',\n",
       " 'Regularly busy',\n",
       " 'Regularly busy',\n",
       " 'Regularly busy',\n",
       " 'Regularly busy',\n",
       " 'Regularly busy',\n",
       " 'Regularly busy',\n",
       " 'Regularly busy',\n",
       " 'Regularly busy',\n",
       " 'Least busy',\n",
       " 'Regularly busy',\n",
       " 'Regularly busy',\n",
       " 'Regularly busy',\n",
       " 'Regularly busy',\n",
       " 'Regularly busy',\n",
       " 'Regularly busy',\n",
       " 'Least busy',\n",
       " 'Least busy',\n",
       " 'Regularly busy',\n",
       " 'Least busy',\n",
       " 'Least busy',\n",
       " 'Least busy',\n",
       " 'Regularly busy',\n",
       " 'Regularly busy',\n",
       " 'Regularly busy',\n",
       " 'Regularly busy',\n",
       " 'Regularly busy',\n",
       " 'Busiest day',\n",
       " 'Regularly busy',\n",
       " 'Regularly busy',\n",
       " 'Regularly busy',\n",
       " 'Regularly busy',\n",
       " 'Regularly busy',\n",
       " 'Least busy',\n",
       " 'Regularly busy',\n",
       " 'Least busy',\n",
       " 'Regularly busy',\n",
       " 'Regularly busy',\n",
       " 'Busiest day',\n",
       " 'Busiest day',\n",
       " 'Busiest day',\n",
       " 'Regularly busy',\n",
       " 'Regularly busy',\n",
       " 'Least busy',\n",
       " 'Regularly busy',\n",
       " 'Regularly busy',\n",
       " 'Least busy',\n",
       " 'Regularly busy',\n",
       " 'Least busy',\n",
       " 'Regularly busy',\n",
       " 'Regularly busy',\n",
       " 'Regularly busy',\n",
       " 'Least busy',\n",
       " 'Regularly busy',\n",
       " 'Busiest day',\n",
       " 'Least busy',\n",
       " 'Busiest day',\n",
       " 'Regularly busy',\n",
       " 'Busiest day',\n",
       " 'Regularly busy',\n",
       " 'Regularly busy',\n",
       " 'Regularly busy',\n",
       " 'Regularly busy',\n",
       " 'Regularly busy',\n",
       " 'Regularly busy',\n",
       " 'Regularly busy',\n",
       " 'Regularly busy',\n",
       " 'Regularly busy',\n",
       " 'Regularly busy',\n",
       " 'Least busy',\n",
       " 'Busiest day',\n",
       " 'Regularly busy',\n",
       " 'Regularly busy',\n",
       " 'Regularly busy',\n",
       " 'Regularly busy',\n",
       " 'Regularly busy',\n",
       " 'Regularly busy',\n",
       " 'Least busy',\n",
       " 'Regularly busy',\n",
       " 'Busiest day',\n",
       " 'Regularly busy',\n",
       " 'Regularly busy',\n",
       " 'Regularly busy',\n",
       " 'Busiest day',\n",
       " 'Busiest day',\n",
       " 'Busiest day',\n",
       " 'Busiest day',\n",
       " 'Regularly busy',\n",
       " 'Regularly busy',\n",
       " 'Regularly busy',\n",
       " 'Regularly busy',\n",
       " 'Regularly busy',\n",
       " 'Least busy',\n",
       " 'Regularly busy',\n",
       " 'Busiest day',\n",
       " 'Least busy',\n",
       " 'Least busy',\n",
       " 'Busiest day',\n",
       " 'Regularly busy',\n",
       " 'Regularly busy',\n",
       " 'Regularly busy',\n",
       " 'Regularly busy',\n",
       " 'Regularly busy',\n",
       " 'Least busy',\n",
       " 'Regularly busy',\n",
       " 'Busiest day',\n",
       " 'Regularly busy',\n",
       " 'Regularly busy',\n",
       " 'Regularly busy',\n",
       " 'Regularly busy',\n",
       " 'Busiest day',\n",
       " 'Regularly busy',\n",
       " 'Regularly busy',\n",
       " 'Regularly busy',\n",
       " 'Regularly busy',\n",
       " 'Least busy',\n",
       " 'Regularly busy',\n",
       " 'Regularly busy',\n",
       " 'Regularly busy',\n",
       " 'Regularly busy',\n",
       " 'Regularly busy',\n",
       " 'Regularly busy',\n",
       " 'Regularly busy',\n",
       " 'Regularly busy',\n",
       " 'Busiest day',\n",
       " 'Regularly busy',\n",
       " 'Least busy',\n",
       " 'Regularly busy',\n",
       " 'Regularly busy',\n",
       " 'Regularly busy',\n",
       " 'Least busy',\n",
       " 'Regularly busy',\n",
       " 'Regularly busy',\n",
       " 'Regularly busy',\n",
       " 'Regularly busy',\n",
       " 'Busiest day',\n",
       " 'Regularly busy',\n",
       " 'Regularly busy',\n",
       " 'Regularly busy',\n",
       " 'Regularly busy',\n",
       " 'Regularly busy',\n",
       " 'Least busy',\n",
       " 'Regularly busy',\n",
       " 'Least busy',\n",
       " 'Least busy',\n",
       " 'Regularly busy',\n",
       " 'Regularly busy',\n",
       " 'Regularly busy',\n",
       " 'Regularly busy',\n",
       " 'Regularly busy',\n",
       " 'Regularly busy',\n",
       " 'Busiest day',\n",
       " 'Regularly busy',\n",
       " 'Regularly busy',\n",
       " 'Regularly busy',\n",
       " 'Least busy',\n",
       " 'Regularly busy',\n",
       " 'Regularly busy',\n",
       " 'Least busy',\n",
       " 'Regularly busy',\n",
       " 'Regularly busy',\n",
       " 'Regularly busy',\n",
       " 'Regularly busy',\n",
       " 'Least busy',\n",
       " 'Regularly busy',\n",
       " 'Regularly busy',\n",
       " 'Regularly busy',\n",
       " 'Regularly busy',\n",
       " 'Busiest day',\n",
       " 'Busiest day',\n",
       " 'Regularly busy',\n",
       " 'Regularly busy',\n",
       " 'Regularly busy',\n",
       " 'Regularly busy',\n",
       " 'Regularly busy',\n",
       " 'Busiest day',\n",
       " 'Regularly busy',\n",
       " 'Regularly busy',\n",
       " 'Busiest day',\n",
       " 'Busiest day',\n",
       " 'Regularly busy',\n",
       " 'Busiest day',\n",
       " 'Regularly busy',\n",
       " 'Regularly busy',\n",
       " 'Regularly busy',\n",
       " 'Regularly busy',\n",
       " 'Busiest day',\n",
       " 'Busiest day',\n",
       " 'Regularly busy',\n",
       " 'Regularly busy',\n",
       " 'Regularly busy',\n",
       " 'Regularly busy',\n",
       " 'Busiest day',\n",
       " 'Regularly busy',\n",
       " 'Regularly busy',\n",
       " 'Regularly busy',\n",
       " 'Regularly busy',\n",
       " 'Regularly busy',\n",
       " 'Busiest day',\n",
       " 'Regularly busy',\n",
       " 'Regularly busy',\n",
       " 'Least busy',\n",
       " 'Regularly busy',\n",
       " 'Regularly busy',\n",
       " 'Busiest day',\n",
       " 'Regularly busy',\n",
       " 'Regularly busy',\n",
       " 'Regularly busy',\n",
       " 'Least busy',\n",
       " 'Regularly busy',\n",
       " 'Busiest day',\n",
       " 'Regularly busy',\n",
       " 'Regularly busy',\n",
       " 'Busiest day',\n",
       " 'Regularly busy',\n",
       " 'Regularly busy',\n",
       " 'Regularly busy',\n",
       " 'Regularly busy',\n",
       " 'Busiest day',\n",
       " 'Regularly busy',\n",
       " 'Busiest day',\n",
       " 'Regularly busy',\n",
       " 'Busiest day',\n",
       " 'Busiest day',\n",
       " 'Regularly busy',\n",
       " 'Regularly busy',\n",
       " 'Regularly busy',\n",
       " 'Regularly busy',\n",
       " 'Regularly busy',\n",
       " 'Busiest day',\n",
       " 'Regularly busy',\n",
       " 'Regularly busy',\n",
       " 'Regularly busy',\n",
       " 'Regularly busy',\n",
       " 'Regularly busy',\n",
       " 'Regularly busy',\n",
       " 'Regularly busy',\n",
       " 'Busiest day',\n",
       " 'Regularly busy',\n",
       " 'Regularly busy',\n",
       " 'Regularly busy',\n",
       " 'Regularly busy',\n",
       " 'Regularly busy',\n",
       " 'Regularly busy',\n",
       " 'Regularly busy',\n",
       " 'Least busy',\n",
       " 'Least busy',\n",
       " 'Regularly busy',\n",
       " 'Busiest day',\n",
       " 'Regularly busy',\n",
       " 'Regularly busy',\n",
       " 'Regularly busy',\n",
       " 'Least busy',\n",
       " 'Regularly busy',\n",
       " 'Regularly busy',\n",
       " 'Least busy',\n",
       " 'Regularly busy',\n",
       " 'Regularly busy',\n",
       " 'Regularly busy',\n",
       " 'Regularly busy',\n",
       " 'Regularly busy',\n",
       " 'Regularly busy',\n",
       " 'Regularly busy',\n",
       " 'Least busy',\n",
       " 'Regularly busy',\n",
       " 'Regularly busy',\n",
       " 'Regularly busy',\n",
       " 'Regularly busy',\n",
       " 'Regularly busy',\n",
       " 'Regularly busy',\n",
       " 'Regularly busy',\n",
       " 'Regularly busy',\n",
       " 'Busiest day',\n",
       " 'Busiest day',\n",
       " 'Regularly busy',\n",
       " 'Regularly busy',\n",
       " 'Busiest day',\n",
       " 'Busiest day',\n",
       " 'Busiest day',\n",
       " 'Regularly busy',\n",
       " 'Regularly busy',\n",
       " 'Busiest day',\n",
       " 'Busiest day',\n",
       " 'Busiest day',\n",
       " 'Regularly busy',\n",
       " 'Regularly busy',\n",
       " 'Busiest day',\n",
       " 'Least busy',\n",
       " 'Regularly busy',\n",
       " 'Regularly busy',\n",
       " 'Regularly busy',\n",
       " 'Regularly busy',\n",
       " 'Regularly busy',\n",
       " 'Regularly busy',\n",
       " 'Busiest day',\n",
       " 'Regularly busy',\n",
       " 'Regularly busy',\n",
       " 'Regularly busy',\n",
       " 'Regularly busy',\n",
       " 'Regularly busy',\n",
       " 'Regularly busy',\n",
       " 'Regularly busy',\n",
       " 'Regularly busy',\n",
       " 'Regularly busy',\n",
       " 'Regularly busy',\n",
       " 'Busiest day',\n",
       " 'Busiest day',\n",
       " 'Regularly busy',\n",
       " 'Regularly busy',\n",
       " 'Regularly busy',\n",
       " 'Regularly busy',\n",
       " 'Regularly busy',\n",
       " 'Regularly busy',\n",
       " 'Regularly busy',\n",
       " 'Regularly busy',\n",
       " 'Regularly busy',\n",
       " 'Regularly busy',\n",
       " 'Regularly busy',\n",
       " 'Regularly busy',\n",
       " 'Regularly busy',\n",
       " 'Regularly busy',\n",
       " 'Regularly busy',\n",
       " 'Regularly busy',\n",
       " 'Regularly busy',\n",
       " 'Regularly busy',\n",
       " 'Regularly busy',\n",
       " 'Regularly busy',\n",
       " 'Regularly busy',\n",
       " 'Regularly busy',\n",
       " 'Regularly busy',\n",
       " 'Regularly busy',\n",
       " 'Regularly busy',\n",
       " 'Regularly busy',\n",
       " 'Regularly busy',\n",
       " 'Regularly busy',\n",
       " 'Regularly busy',\n",
       " 'Regularly busy',\n",
       " 'Busiest day',\n",
       " 'Regularly busy',\n",
       " 'Regularly busy',\n",
       " 'Regularly busy',\n",
       " 'Regularly busy',\n",
       " 'Regularly busy',\n",
       " 'Regularly busy',\n",
       " 'Regularly busy',\n",
       " 'Regularly busy',\n",
       " 'Busiest day',\n",
       " 'Regularly busy',\n",
       " 'Busiest day',\n",
       " 'Regularly busy',\n",
       " 'Regularly busy',\n",
       " 'Busiest day',\n",
       " 'Regularly busy',\n",
       " 'Regularly busy',\n",
       " 'Busiest day',\n",
       " 'Regularly busy',\n",
       " 'Busiest day',\n",
       " 'Busiest day',\n",
       " 'Regularly busy',\n",
       " 'Regularly busy',\n",
       " 'Busiest day',\n",
       " 'Least busy',\n",
       " 'Regularly busy',\n",
       " 'Regularly busy',\n",
       " 'Regularly busy',\n",
       " 'Regularly busy',\n",
       " 'Busiest day',\n",
       " 'Least busy',\n",
       " 'Regularly busy',\n",
       " 'Regularly busy',\n",
       " 'Busiest day',\n",
       " 'Regularly busy',\n",
       " 'Regularly busy',\n",
       " 'Regularly busy',\n",
       " 'Regularly busy',\n",
       " 'Regularly busy',\n",
       " 'Regularly busy',\n",
       " 'Least busy',\n",
       " 'Regularly busy',\n",
       " 'Regularly busy',\n",
       " 'Least busy',\n",
       " 'Regularly busy',\n",
       " 'Least busy',\n",
       " 'Regularly busy',\n",
       " 'Regularly busy',\n",
       " 'Regularly busy',\n",
       " 'Regularly busy',\n",
       " 'Least busy',\n",
       " 'Regularly busy',\n",
       " 'Regularly busy',\n",
       " 'Busiest day',\n",
       " 'Regularly busy',\n",
       " 'Regularly busy',\n",
       " 'Regularly busy',\n",
       " 'Least busy',\n",
       " 'Regularly busy',\n",
       " 'Regularly busy',\n",
       " 'Regularly busy',\n",
       " 'Busiest day',\n",
       " 'Regularly busy',\n",
       " 'Regularly busy',\n",
       " 'Regularly busy',\n",
       " 'Regularly busy',\n",
       " 'Regularly busy',\n",
       " 'Regularly busy',\n",
       " 'Regularly busy',\n",
       " 'Regularly busy',\n",
       " 'Regularly busy',\n",
       " 'Regularly busy',\n",
       " 'Regularly busy',\n",
       " 'Busiest day',\n",
       " 'Regularly busy',\n",
       " 'Regularly busy',\n",
       " 'Busiest day',\n",
       " 'Regularly busy',\n",
       " 'Regularly busy',\n",
       " 'Regularly busy',\n",
       " 'Least busy',\n",
       " 'Busiest day',\n",
       " 'Regularly busy',\n",
       " 'Regularly busy',\n",
       " 'Regularly busy',\n",
       " 'Regularly busy',\n",
       " 'Busiest day',\n",
       " 'Busiest day',\n",
       " 'Regularly busy',\n",
       " 'Regularly busy',\n",
       " 'Regularly busy',\n",
       " 'Regularly busy',\n",
       " 'Regularly busy',\n",
       " 'Regularly busy',\n",
       " 'Busiest day',\n",
       " 'Regularly busy',\n",
       " 'Regularly busy',\n",
       " 'Regularly busy',\n",
       " 'Busiest day',\n",
       " 'Least busy',\n",
       " 'Busiest day',\n",
       " 'Least busy',\n",
       " 'Regularly busy',\n",
       " 'Least busy',\n",
       " 'Busiest day',\n",
       " 'Regularly busy',\n",
       " 'Regularly busy',\n",
       " 'Busiest day',\n",
       " 'Regularly busy',\n",
       " 'Least busy',\n",
       " 'Regularly busy',\n",
       " 'Regularly busy',\n",
       " 'Regularly busy',\n",
       " 'Regularly busy',\n",
       " 'Least busy',\n",
       " 'Busiest day',\n",
       " 'Regularly busy',\n",
       " 'Regularly busy',\n",
       " 'Regularly busy',\n",
       " 'Regularly busy',\n",
       " 'Regularly busy',\n",
       " 'Regularly busy',\n",
       " 'Busiest day',\n",
       " 'Busiest day',\n",
       " 'Busiest day',\n",
       " 'Regularly busy',\n",
       " 'Regularly busy',\n",
       " 'Regularly busy',\n",
       " 'Busiest day',\n",
       " 'Regularly busy',\n",
       " 'Regularly busy',\n",
       " 'Regularly busy',\n",
       " 'Regularly busy',\n",
       " 'Regularly busy',\n",
       " 'Least busy',\n",
       " 'Regularly busy',\n",
       " 'Regularly busy',\n",
       " 'Least busy',\n",
       " 'Regularly busy',\n",
       " 'Regularly busy',\n",
       " 'Regularly busy',\n",
       " 'Regularly busy',\n",
       " 'Regularly busy',\n",
       " 'Regularly busy',\n",
       " 'Regularly busy',\n",
       " 'Busiest day',\n",
       " 'Regularly busy',\n",
       " 'Regularly busy',\n",
       " 'Regularly busy',\n",
       " 'Busiest day',\n",
       " 'Least busy',\n",
       " 'Regularly busy',\n",
       " 'Regularly busy',\n",
       " 'Regularly busy',\n",
       " 'Regularly busy',\n",
       " 'Busiest day',\n",
       " 'Least busy',\n",
       " 'Regularly busy',\n",
       " 'Regularly busy',\n",
       " 'Least busy',\n",
       " 'Regularly busy',\n",
       " 'Regularly busy',\n",
       " 'Least busy',\n",
       " 'Regularly busy',\n",
       " 'Regularly busy',\n",
       " 'Regularly busy',\n",
       " 'Regularly busy',\n",
       " 'Regularly busy',\n",
       " 'Regularly busy',\n",
       " 'Regularly busy',\n",
       " 'Regularly busy',\n",
       " 'Regularly busy',\n",
       " 'Least busy',\n",
       " 'Regularly busy',\n",
       " 'Regularly busy',\n",
       " 'Regularly busy',\n",
       " 'Busiest day',\n",
       " 'Regularly busy',\n",
       " 'Regularly busy',\n",
       " 'Regularly busy',\n",
       " 'Regularly busy',\n",
       " 'Regularly busy',\n",
       " 'Regularly busy',\n",
       " 'Busiest day',\n",
       " 'Busiest day',\n",
       " 'Regularly busy',\n",
       " 'Regularly busy',\n",
       " 'Regularly busy',\n",
       " 'Busiest day',\n",
       " 'Regularly busy',\n",
       " 'Regularly busy',\n",
       " 'Regularly busy',\n",
       " 'Regularly busy',\n",
       " 'Regularly busy',\n",
       " 'Regularly busy',\n",
       " 'Least busy',\n",
       " 'Least busy',\n",
       " 'Busiest day',\n",
       " 'Regularly busy',\n",
       " 'Busiest day',\n",
       " 'Least busy',\n",
       " 'Regularly busy',\n",
       " 'Least busy',\n",
       " 'Least busy',\n",
       " 'Least busy',\n",
       " 'Regularly busy',\n",
       " 'Regularly busy',\n",
       " 'Regularly busy',\n",
       " 'Regularly busy',\n",
       " 'Regularly busy',\n",
       " 'Regularly busy',\n",
       " 'Regularly busy',\n",
       " 'Regularly busy',\n",
       " 'Least busy',\n",
       " 'Regularly busy',\n",
       " 'Regularly busy',\n",
       " 'Regularly busy',\n",
       " 'Regularly busy',\n",
       " 'Regularly busy',\n",
       " 'Least busy',\n",
       " 'Regularly busy',\n",
       " 'Regularly busy',\n",
       " 'Regularly busy',\n",
       " 'Least busy',\n",
       " 'Regularly busy',\n",
       " 'Regularly busy',\n",
       " 'Regularly busy',\n",
       " 'Regularly busy',\n",
       " 'Regularly busy',\n",
       " 'Regularly busy',\n",
       " 'Least busy',\n",
       " 'Least busy',\n",
       " 'Regularly busy',\n",
       " 'Busiest day',\n",
       " 'Regularly busy',\n",
       " 'Regularly busy',\n",
       " 'Busiest day',\n",
       " 'Regularly busy',\n",
       " 'Busiest day',\n",
       " 'Regularly busy',\n",
       " 'Regularly busy',\n",
       " 'Least busy',\n",
       " 'Regularly busy',\n",
       " 'Regularly busy',\n",
       " 'Busiest day',\n",
       " 'Busiest day',\n",
       " 'Busiest day',\n",
       " 'Busiest day',\n",
       " 'Regularly busy',\n",
       " 'Regularly busy',\n",
       " 'Regularly busy',\n",
       " 'Busiest day',\n",
       " 'Regularly busy',\n",
       " 'Regularly busy',\n",
       " 'Regularly busy',\n",
       " 'Regularly busy',\n",
       " 'Busiest day',\n",
       " 'Regularly busy',\n",
       " 'Busiest day',\n",
       " 'Regularly busy',\n",
       " 'Least busy',\n",
       " 'Regularly busy',\n",
       " 'Regularly busy',\n",
       " 'Busiest day',\n",
       " 'Regularly busy',\n",
       " 'Regularly busy',\n",
       " 'Least busy',\n",
       " 'Regularly busy',\n",
       " 'Regularly busy',\n",
       " 'Regularly busy',\n",
       " 'Least busy',\n",
       " 'Busiest day',\n",
       " 'Regularly busy',\n",
       " 'Regularly busy',\n",
       " 'Regularly busy',\n",
       " 'Least busy',\n",
       " 'Busiest day',\n",
       " 'Regularly busy',\n",
       " 'Regularly busy',\n",
       " 'Regularly busy',\n",
       " 'Busiest day',\n",
       " 'Busiest day',\n",
       " 'Regularly busy',\n",
       " 'Busiest day',\n",
       " 'Regularly busy',\n",
       " 'Regularly busy',\n",
       " 'Least busy',\n",
       " 'Least busy',\n",
       " 'Regularly busy',\n",
       " 'Regularly busy',\n",
       " 'Regularly busy',\n",
       " 'Regularly busy',\n",
       " 'Busiest day',\n",
       " 'Busiest day',\n",
       " 'Least busy',\n",
       " 'Regularly busy',\n",
       " 'Regularly busy',\n",
       " 'Regularly busy',\n",
       " 'Regularly busy',\n",
       " 'Regularly busy',\n",
       " 'Regularly busy',\n",
       " 'Busiest day',\n",
       " 'Least busy',\n",
       " 'Regularly busy',\n",
       " 'Busiest day',\n",
       " 'Regularly busy',\n",
       " 'Regularly busy',\n",
       " 'Busiest day',\n",
       " 'Busiest day',\n",
       " 'Regularly busy',\n",
       " 'Least busy',\n",
       " 'Regularly busy',\n",
       " 'Regularly busy',\n",
       " 'Busiest day',\n",
       " 'Regularly busy',\n",
       " 'Regularly busy',\n",
       " 'Busiest day',\n",
       " 'Regularly busy',\n",
       " 'Least busy',\n",
       " 'Regularly busy',\n",
       " 'Regularly busy',\n",
       " 'Regularly busy',\n",
       " 'Least busy',\n",
       " 'Least busy',\n",
       " 'Busiest day',\n",
       " 'Regularly busy',\n",
       " 'Regularly busy',\n",
       " 'Regularly busy',\n",
       " 'Regularly busy',\n",
       " 'Regularly busy',\n",
       " 'Regularly busy',\n",
       " 'Regularly busy',\n",
       " 'Regularly busy',\n",
       " 'Regularly busy',\n",
       " 'Regularly busy',\n",
       " 'Regularly busy',\n",
       " 'Regularly busy',\n",
       " 'Regularly busy',\n",
       " 'Regularly busy',\n",
       " 'Regularly busy',\n",
       " 'Least busy',\n",
       " 'Least busy',\n",
       " 'Least busy',\n",
       " 'Least busy',\n",
       " 'Least busy',\n",
       " 'Least busy',\n",
       " 'Regularly busy',\n",
       " 'Busiest day',\n",
       " 'Regularly busy',\n",
       " 'Busiest day',\n",
       " 'Least busy',\n",
       " 'Busiest day',\n",
       " 'Regularly busy',\n",
       " 'Regularly busy',\n",
       " 'Regularly busy',\n",
       " 'Regularly busy',\n",
       " 'Regularly busy',\n",
       " 'Busiest day',\n",
       " 'Regularly busy',\n",
       " 'Regularly busy',\n",
       " 'Least busy',\n",
       " 'Regularly busy',\n",
       " 'Regularly busy',\n",
       " 'Regularly busy',\n",
       " 'Regularly busy',\n",
       " 'Regularly busy',\n",
       " 'Regularly busy',\n",
       " 'Least busy',\n",
       " 'Least busy',\n",
       " 'Least busy',\n",
       " 'Regularly busy',\n",
       " 'Regularly busy',\n",
       " 'Regularly busy',\n",
       " 'Regularly busy',\n",
       " 'Regularly busy',\n",
       " 'Regularly busy',\n",
       " 'Regularly busy',\n",
       " 'Regularly busy',\n",
       " 'Busiest day',\n",
       " 'Busiest day',\n",
       " 'Busiest day',\n",
       " 'Regularly busy',\n",
       " 'Regularly busy',\n",
       " 'Regularly busy',\n",
       " 'Busiest day',\n",
       " 'Busiest day',\n",
       " 'Regularly busy',\n",
       " 'Busiest day',\n",
       " 'Regularly busy',\n",
       " 'Regularly busy',\n",
       " 'Regularly busy',\n",
       " 'Busiest day',\n",
       " 'Regularly busy',\n",
       " 'Regularly busy',\n",
       " 'Regularly busy',\n",
       " 'Regularly busy',\n",
       " 'Least busy',\n",
       " 'Regularly busy',\n",
       " 'Busiest day',\n",
       " 'Regularly busy',\n",
       " 'Regularly busy',\n",
       " 'Regularly busy',\n",
       " 'Regularly busy',\n",
       " 'Regularly busy',\n",
       " 'Regularly busy',\n",
       " 'Regularly busy',\n",
       " 'Busiest day',\n",
       " 'Regularly busy',\n",
       " 'Regularly busy',\n",
       " 'Regularly busy',\n",
       " 'Busiest day',\n",
       " 'Regularly busy',\n",
       " 'Least busy',\n",
       " 'Regularly busy',\n",
       " 'Regularly busy',\n",
       " 'Regularly busy',\n",
       " 'Busiest day',\n",
       " 'Busiest day',\n",
       " 'Busiest day',\n",
       " 'Busiest day',\n",
       " 'Regularly busy',\n",
       " 'Busiest day',\n",
       " 'Regularly busy',\n",
       " 'Regularly busy',\n",
       " 'Regularly busy',\n",
       " 'Regularly busy',\n",
       " 'Busiest day',\n",
       " 'Least busy',\n",
       " 'Regularly busy',\n",
       " 'Regularly busy',\n",
       " 'Regularly busy',\n",
       " 'Least busy',\n",
       " 'Regularly busy',\n",
       " 'Regularly busy',\n",
       " 'Busiest day',\n",
       " 'Regularly busy',\n",
       " 'Regularly busy',\n",
       " 'Regularly busy',\n",
       " 'Regularly busy',\n",
       " 'Regularly busy',\n",
       " 'Least busy',\n",
       " 'Busiest day',\n",
       " 'Regularly busy',\n",
       " 'Least busy',\n",
       " 'Busiest day',\n",
       " 'Busiest day',\n",
       " 'Regularly busy',\n",
       " 'Least busy',\n",
       " 'Regularly busy',\n",
       " 'Regularly busy',\n",
       " 'Busiest day',\n",
       " 'Busiest day',\n",
       " 'Regularly busy',\n",
       " 'Regularly busy',\n",
       " 'Regularly busy',\n",
       " 'Busiest day',\n",
       " 'Regularly busy',\n",
       " 'Regularly busy',\n",
       " 'Regularly busy',\n",
       " 'Least busy',\n",
       " 'Regularly busy',\n",
       " 'Least busy',\n",
       " 'Busiest day',\n",
       " 'Regularly busy',\n",
       " 'Regularly busy',\n",
       " 'Regularly busy',\n",
       " 'Busiest day',\n",
       " 'Regularly busy',\n",
       " 'Busiest day',\n",
       " 'Regularly busy',\n",
       " 'Regularly busy',\n",
       " 'Busiest day',\n",
       " 'Regularly busy',\n",
       " 'Regularly busy',\n",
       " 'Regularly busy',\n",
       " 'Regularly busy',\n",
       " 'Busiest day',\n",
       " 'Regularly busy',\n",
       " 'Regularly busy',\n",
       " 'Busiest day',\n",
       " ...]"
      ]
     },
     "execution_count": 89,
     "metadata": {},
     "output_type": "execute_result"
    }
   ],
   "source": [
    "result"
   ]
  },
  {
   "cell_type": "code",
   "execution_count": 90,
   "id": "5748f2be",
   "metadata": {},
   "outputs": [],
   "source": [
    "ords_prods_merge[\"Busiest day\"] = result"
   ]
  },
  {
   "cell_type": "code",
   "execution_count": 92,
   "id": "100e4328",
   "metadata": {},
   "outputs": [
    {
     "data": {
      "text/plain": [
       "Busiest day\n",
       "Regularly busy    726436\n",
       "Busiest day       198588\n",
       "Least busy        123562\n",
       "Name: count, dtype: int64"
      ]
     },
     "execution_count": 92,
     "metadata": {},
     "output_type": "execute_result"
    }
   ],
   "source": [
    "ords_prods_merge[\"Busiest day\"].value_counts(dropna = False)"
   ]
  },
  {
   "cell_type": "markdown",
   "id": "085d631a",
   "metadata": {},
   "source": [
    "\n",
    "# Task Step 2 - new column for busiest days\n",
    " "
   ]
  },
  {
   "cell_type": "markdown",
   "id": "e536bd9b",
   "metadata": {},
   "source": [
    "#Create new if-statement for-loop for new requirements"
   ]
  },
  {
   "cell_type": "code",
   "execution_count": 98,
   "id": "3edf28c1",
   "metadata": {},
   "outputs": [],
   "source": [
    "result_v2 = []\n",
    "for value in ords_prods_merge[\"order_of_week\"]:\n",
    "  if value == 0 or  value == 1:\n",
    "        result_v2.append(\"Busiest day\")\n",
    "  elif value == 4 or value == 3:\n",
    "    result_v2.append(\"Least busy\")\n",
    "  else:\n",
    "    result_v2.append(\"Regularly busy\")\n"
   ]
  },
  {
   "cell_type": "markdown",
   "id": "5be632a4",
   "metadata": {},
   "source": [
    "#Add result to dataframe in new column\\n"
   ]
  },
  {
   "cell_type": "code",
   "execution_count": 102,
   "id": "6422fa38",
   "metadata": {},
   "outputs": [],
   "source": [
    "ords_prods_merge[\"Busiest day\"] = result_v2"
   ]
  },
  {
   "cell_type": "code",
   "execution_count": 103,
   "id": "822d4a5e",
   "metadata": {},
   "outputs": [
    {
     "data": {
      "text/plain": [
       "Busiest day\n",
       "Regularly busy    424843\n",
       "Busiest day       376543\n",
       "Least busy        247200\n",
       "Name: count, dtype: int64"
      ]
     },
     "execution_count": 103,
     "metadata": {},
     "output_type": "execute_result"
    }
   ],
   "source": [
    "ords_prods_merge[\"Busiest day\"].value_counts(dropna = False)"
   ]
  },
  {
   "cell_type": "code",
   "execution_count": 108,
   "id": "000453dd",
   "metadata": {},
   "outputs": [],
   "source": [
    "df_prods_merged = pd.read_csv(r'C:\\Users\\Raghu\\Instacart Basket Analysis\\01 Project Management\\02 Data\\03 Scripts\\prepared data\\02 Data\\03 Scripts\\Prepared Data/orders_products_merged.csv') \n"
   ]
  },
  {
   "cell_type": "code",
   "execution_count": 160,
   "id": "09dac54d",
   "metadata": {},
   "outputs": [
    {
     "name": "stdout",
     "output_type": "stream",
     "text": [
      "   Unnamed: 0.1  product_id                product_name  aisle_id  \\\n",
      "0             0           1  Chocolate Sandwich Cookies        61   \n",
      "1             1           1  Chocolate Sandwich Cookies        61   \n",
      "2             2           1  Chocolate Sandwich Cookies        61   \n",
      "3             3           1  Chocolate Sandwich Cookies        61   \n",
      "4             4           1  Chocolate Sandwich Cookies        61   \n",
      "\n",
      "   department_id  prices  Unnamed: 0  order_id  user_id  order_number  \\\n",
      "0             19     5.8       16802   3139998      138            28   \n",
      "1             19     5.8       16806   1977647      138            30   \n",
      "2             19     5.8      106710    389851      709             2   \n",
      "3             19     5.8      113536    652770      764             1   \n",
      "4             19     5.8      113575   1813452      764             3   \n",
      "\n",
      "   order_of_week  oder_hour_of _day  days_since_prior_order  \\\n",
      "0              6                 11                     3.0   \n",
      "1              6                 17                    20.0   \n",
      "2              0                 21                     6.0   \n",
      "3              3                 13                     NaN   \n",
      "4              4                 17                     9.0   \n",
      "\n",
      "   add_to_cart_order  reordered _merge merge_indicator  \n",
      "0                  5          0   both            both  \n",
      "1                  1          1   both            both  \n",
      "2                 20          0   both            both  \n",
      "3                 10          0   both            both  \n",
      "4                 11          1   both            both  \n"
     ]
    }
   ],
   "source": [
    "print(df_prods_merged.head())\n"
   ]
  },
  {
   "cell_type": "markdown",
   "id": "8fa0d26d",
   "metadata": {},
   "source": [
    "# Task Step 3 - values of busiest_days column"
   ]
  },
  {
   "cell_type": "code",
   "execution_count": 120,
   "id": "502490eb",
   "metadata": {},
   "outputs": [
    {
     "data": {
      "text/plain": [
       "Busiest day\n",
       "Regularly busy    424843\n",
       "Busiest day       376543\n",
       "Least busy        247200\n",
       "Name: count, dtype: int64"
      ]
     },
     "execution_count": 120,
     "metadata": {},
     "output_type": "execute_result"
    }
   ],
   "source": [
    "ords_prods_merge[\"Busiest day\"].value_counts(dropna = False)"
   ]
  },
  {
   "cell_type": "markdown",
   "id": "d377ec7d",
   "metadata": {},
   "source": [
    " When checked with our original frequency counts, these values add up to the sums of each \\\"grouping\\\". ie - the total for busiest days equals the sum of value 0 and value 1, and the values for least busy days adds to the sum of value 3 and 4, confirming that the loop operated correctly\"\n",
    "   "
   ]
  },
  {
   "cell_type": "markdown",
   "id": "6c361119",
   "metadata": {},
   "source": [
    "# Task Step 4 - busiest period of the day column"
   ]
  },
  {
   "cell_type": "code",
   "execution_count": 125,
   "id": "cd760ac7",
   "metadata": {},
   "outputs": [
    {
     "data": {
      "text/plain": [
       "oder_hour_of _day\n",
       "10    90558\n",
       "11    88668\n",
       "14    85384\n",
       "13    85135\n",
       "15    85118\n",
       "12    84745\n",
       "9     81390\n",
       "16    80912\n",
       "17    68157\n",
       "8     56381\n",
       "18    53358\n",
       "19    41350\n",
       "20    31293\n",
       "7     29474\n",
       "21    25903\n",
       "22    20509\n",
       "23    12563\n",
       "6      9990\n",
       "0      6368\n",
       "1      3165\n",
       "5      2834\n",
       "2      1992\n",
       "4      1776\n",
       "3      1563\n",
       "Name: count, dtype: int64"
      ]
     },
     "execution_count": 125,
     "metadata": {},
     "output_type": "execute_result"
    }
   ],
   "source": [
    "ords_prods_merge['oder_hour_of _day'].value_counts()"
   ]
  },
  {
   "cell_type": "markdown",
   "id": "2cf9a299",
   "metadata": {},
   "source": [
    "##### As the client wants these grouped into three different segments, we can group the 24 hours of the day as follows: Most orders = 10, 11, 14, 15, 13, 12, 16, 9; Average orders = 17, 8, 18, 19, 20, 7, 21, 22; Fewest orders = 23, 6, 0, 1, 5, 2, 4, 3\"\n",
    "   "
   ]
  },
  {
   "cell_type": "markdown",
   "id": "88030c76",
   "metadata": {},
   "source": [
    "# Create a for-loop if statement using the above breakdown\\n\",\n",
    "    \"hour_of_day\""
   ]
  },
  {
   "cell_type": "code",
   "execution_count": 129,
   "id": "b10fb0c1",
   "metadata": {},
   "outputs": [],
   "source": [
    "hour_of_day = []\n",
    "\n",
    "for value in ords_prods_merge[\"oder_hour_of _day\"]:\n",
    "    if value in [10, 11, 14, 15, 13, 12, 16, 9]:\n",
    "        hour_of_day.append(\"Most orders\")\n",
    "    elif value in [23, 6, 0, 1, 5, 2, 4, 3]:\n",
    "        hour_of_day.append(\"Fewest orders\")\n",
    "    else:\n",
    "        hour_of_day.append(\"Average orders\")"
   ]
  },
  {
   "cell_type": "markdown",
   "id": "20b465ae",
   "metadata": {},
   "source": [
    " Add result to dataframe as \\\"busiest_period_of_day\\\" column\\n\""
   ]
  },
  {
   "cell_type": "code",
   "execution_count": 130,
   "id": "d70a69b6",
   "metadata": {},
   "outputs": [],
   "source": [
    "ords_prods_merge['busiest_period_of_day'] = hour_of_day"
   ]
  },
  {
   "cell_type": "code",
   "execution_count": 132,
   "id": "1c5251b5",
   "metadata": {},
   "outputs": [
    {
     "data": {
      "text/html": [
       "<div>\n",
       "<style scoped>\n",
       "    .dataframe tbody tr th:only-of-type {\n",
       "        vertical-align: middle;\n",
       "    }\n",
       "\n",
       "    .dataframe tbody tr th {\n",
       "        vertical-align: top;\n",
       "    }\n",
       "\n",
       "    .dataframe thead th {\n",
       "        text-align: right;\n",
       "    }\n",
       "</style>\n",
       "<table border=\"1\" class=\"dataframe\">\n",
       "  <thead>\n",
       "    <tr style=\"text-align: right;\">\n",
       "      <th></th>\n",
       "      <th>oder_hour_of _day</th>\n",
       "      <th>busiest_period_of_day</th>\n",
       "    </tr>\n",
       "  </thead>\n",
       "  <tbody>\n",
       "    <tr>\n",
       "      <th>0</th>\n",
       "      <td>11</td>\n",
       "      <td>Most orders</td>\n",
       "    </tr>\n",
       "    <tr>\n",
       "      <th>1</th>\n",
       "      <td>17</td>\n",
       "      <td>Average orders</td>\n",
       "    </tr>\n",
       "    <tr>\n",
       "      <th>2</th>\n",
       "      <td>21</td>\n",
       "      <td>Average orders</td>\n",
       "    </tr>\n",
       "    <tr>\n",
       "      <th>3</th>\n",
       "      <td>13</td>\n",
       "      <td>Most orders</td>\n",
       "    </tr>\n",
       "    <tr>\n",
       "      <th>4</th>\n",
       "      <td>17</td>\n",
       "      <td>Average orders</td>\n",
       "    </tr>\n",
       "    <tr>\n",
       "      <th>5</th>\n",
       "      <td>7</td>\n",
       "      <td>Average orders</td>\n",
       "    </tr>\n",
       "    <tr>\n",
       "      <th>6</th>\n",
       "      <td>14</td>\n",
       "      <td>Most orders</td>\n",
       "    </tr>\n",
       "    <tr>\n",
       "      <th>7</th>\n",
       "      <td>10</td>\n",
       "      <td>Most orders</td>\n",
       "    </tr>\n",
       "    <tr>\n",
       "      <th>8</th>\n",
       "      <td>20</td>\n",
       "      <td>Average orders</td>\n",
       "    </tr>\n",
       "    <tr>\n",
       "      <th>9</th>\n",
       "      <td>12</td>\n",
       "      <td>Most orders</td>\n",
       "    </tr>\n",
       "  </tbody>\n",
       "</table>\n",
       "</div>"
      ],
      "text/plain": [
       "   oder_hour_of _day busiest_period_of_day\n",
       "0                 11           Most orders\n",
       "1                 17        Average orders\n",
       "2                 21        Average orders\n",
       "3                 13           Most orders\n",
       "4                 17        Average orders\n",
       "5                  7        Average orders\n",
       "6                 14           Most orders\n",
       "7                 10           Most orders\n",
       "8                 20        Average orders\n",
       "9                 12           Most orders"
      ]
     },
     "execution_count": 132,
     "metadata": {},
     "output_type": "execute_result"
    }
   ],
   "source": [
    "ords_prods_merge[['oder_hour_of _day', 'busiest_period_of_day']].head(10)"
   ]
  },
  {
   "cell_type": "markdown",
   "id": "b0df9412",
   "metadata": {},
   "source": [
    "# Task Step 5 - Print Frequency"
   ]
  },
  {
   "cell_type": "code",
   "execution_count": 133,
   "id": "31d5523d",
   "metadata": {},
   "outputs": [
    {
     "data": {
      "text/plain": [
       "busiest_period_of_day\n",
       "Most orders       681910\n",
       "Average orders    326425\n",
       "Fewest orders      40251\n",
       "Name: count, dtype: int64"
      ]
     },
     "execution_count": 133,
     "metadata": {},
     "output_type": "execute_result"
    }
   ],
   "source": [
    "ords_prods_merge['busiest_period_of_day'].value_counts()"
   ]
  },
  {
   "cell_type": "markdown",
   "id": "9b0c5c74",
   "metadata": {},
   "source": [
    "##### These frequencies match the sums of the above \\\"ungrouped\\\" frequencies, confirming the correct application of the labels"
   ]
  },
  {
   "cell_type": "markdown",
   "id": "90d49491",
   "metadata": {},
   "source": [
    "# Export as pickle file\n",
    "\n",
    "\n"
   ]
  },
  {
   "cell_type": "code",
   "execution_count": 166,
   "id": "0737bf21",
   "metadata": {},
   "outputs": [],
   "source": [
    "path = r'C:\\\\Users\\\\Raghu\\\\Instacart Basket Analysis\\\\01 Project Management\\\\02 Data\\\\03 Scripts\\\\Prepared Data'"
   ]
  },
  {
   "cell_type": "code",
   "execution_count": 165,
   "id": "0ae6d199",
   "metadata": {},
   "outputs": [],
   "source": [
    "os.makedirs(os.path.join(path, '02 Data', '03 Scripts', 'Prepared Data'), exist_ok=True)\n"
   ]
  },
  {
   "cell_type": "code",
   "execution_count": 164,
   "id": "317dff36",
   "metadata": {},
   "outputs": [],
   "source": [
    "ords_prods_merge.to_pickle(os.path.join(path, '02 Data', '03 Scripts', 'Prepared Data', 'orders_products_merged_updated.pkl'))"
   ]
  },
  {
   "cell_type": "code",
   "execution_count": 163,
   "id": "36182b7d",
   "metadata": {},
   "outputs": [],
   "source": [
    " "
   ]
  },
  {
   "cell_type": "code",
   "execution_count": null,
   "id": "acee73d9",
   "metadata": {},
   "outputs": [],
   "source": []
  }
 ],
 "metadata": {
  "kernelspec": {
   "display_name": "Python 3 (ipykernel)",
   "language": "python",
   "name": "python3"
  },
  "language_info": {
   "codemirror_mode": {
    "name": "ipython",
    "version": 3
   },
   "file_extension": ".py",
   "mimetype": "text/x-python",
   "name": "python",
   "nbconvert_exporter": "python",
   "pygments_lexer": "ipython3",
   "version": "3.11.5"
  }
 },
 "nbformat": 4,
 "nbformat_minor": 5
}
