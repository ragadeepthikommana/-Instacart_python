{
 "cells": [
  {
   "cell_type": "markdown",
   "id": "d7021e6e",
   "metadata": {},
   "source": [
    "## Data Wrangle Customer Data & Combine Orders-Product Data\n",
    " "
   ]
  },
  {
   "cell_type": "markdown",
   "id": "4758b072",
   "metadata": {},
   "source": [
    "1. Import customers data\n",
    "2. Check update column types and names in customer dataset\n",
    "3. Conducted consistency checks on customer dataset\n",
    "4. Duplicate Checks\n",
    "5. Export Customers Data to Pickle File\n"
   ]
  },
  {
   "cell_type": "code",
   "execution_count": 49,
   "id": "80ad33e3",
   "metadata": {},
   "outputs": [],
   "source": [
    "#import libraries\n",
    "import pandas as pd\n",
    "import numpy as np\n",
    "import os\n",
    "import matplotlib.pyplot as plt\n",
    "import seaborn as sns\n",
    "import scipy"
   ]
  },
  {
   "cell_type": "markdown",
   "id": "06ebdd1d",
   "metadata": {},
   "source": [
    "1. Import Customers data"
   ]
  },
  {
   "cell_type": "markdown",
   "id": "2db3a913",
   "metadata": {},
   "source": [
    "#import the file and compress the numeric values where possible"
   ]
  },
  {
   "cell_type": "code",
   "execution_count": 64,
   "id": "0c41fc36",
   "metadata": {},
   "outputs": [],
   "source": [
    "path = r'C:\\Users\\Raghu\\Instacart Basket Analysis\\01 Project Management\\02 Data\\original data\\customers.csv'\n"
   ]
  },
  {
   "cell_type": "code",
   "execution_count": 65,
   "id": "cc35c2ab",
   "metadata": {},
   "outputs": [],
   "source": [
    "file_path = os.path.join(path, '02 Data', 'Original Data', 'customers.csv')\n"
   ]
  },
  {
   "cell_type": "code",
   "execution_count": 68,
   "id": "63d9460d",
   "metadata": {},
   "outputs": [],
   "source": [
    "df_customers = pd.read_csv(r'C:\\Users\\Raghu\\Instacart Basket Analysis\\01 Project Management\\02 Data\\original data\\customers.csv'\n",
    ")\n"
   ]
  },
  {
   "cell_type": "code",
   "execution_count": 70,
   "id": "82dc11b6",
   "metadata": {},
   "outputs": [
    {
     "name": "stdout",
     "output_type": "stream",
     "text": [
      "<class 'pandas.core.frame.DataFrame'>\n",
      "RangeIndex: 206209 entries, 0 to 206208\n",
      "Data columns (total 10 columns):\n",
      " #   Column        Non-Null Count   Dtype \n",
      "---  ------        --------------   ----- \n",
      " 0   user_id       206209 non-null  int64 \n",
      " 1   First Name    194950 non-null  object\n",
      " 2   Surnam        206209 non-null  object\n",
      " 3   Gender        206209 non-null  object\n",
      " 4   STATE         206209 non-null  object\n",
      " 5   Age           206209 non-null  int64 \n",
      " 6   date_joined   206209 non-null  object\n",
      " 7   n_dependants  206209 non-null  int64 \n",
      " 8   fam_status    206209 non-null  object\n",
      " 9   income        206209 non-null  int64 \n",
      "dtypes: int64(4), object(6)\n",
      "memory usage: 15.7+ MB\n"
     ]
    }
   ],
   "source": [
    "df_customers.info()"
   ]
  },
  {
   "cell_type": "code",
   "execution_count": 71,
   "id": "07227150",
   "metadata": {
    "scrolled": true
   },
   "outputs": [
    {
     "data": {
      "text/html": [
       "<div>\n",
       "<style scoped>\n",
       "    .dataframe tbody tr th:only-of-type {\n",
       "        vertical-align: middle;\n",
       "    }\n",
       "\n",
       "    .dataframe tbody tr th {\n",
       "        vertical-align: top;\n",
       "    }\n",
       "\n",
       "    .dataframe thead th {\n",
       "        text-align: right;\n",
       "    }\n",
       "</style>\n",
       "<table border=\"1\" class=\"dataframe\">\n",
       "  <thead>\n",
       "    <tr style=\"text-align: right;\">\n",
       "      <th></th>\n",
       "      <th>user_id</th>\n",
       "      <th>First Name</th>\n",
       "      <th>Surnam</th>\n",
       "      <th>Gender</th>\n",
       "      <th>STATE</th>\n",
       "      <th>Age</th>\n",
       "      <th>date_joined</th>\n",
       "      <th>n_dependants</th>\n",
       "      <th>fam_status</th>\n",
       "      <th>income</th>\n",
       "    </tr>\n",
       "  </thead>\n",
       "  <tbody>\n",
       "    <tr>\n",
       "      <th>0</th>\n",
       "      <td>26711</td>\n",
       "      <td>Deborah</td>\n",
       "      <td>Esquivel</td>\n",
       "      <td>Female</td>\n",
       "      <td>Missouri</td>\n",
       "      <td>48</td>\n",
       "      <td>1/1/2017</td>\n",
       "      <td>3</td>\n",
       "      <td>married</td>\n",
       "      <td>165665</td>\n",
       "    </tr>\n",
       "    <tr>\n",
       "      <th>1</th>\n",
       "      <td>33890</td>\n",
       "      <td>Patricia</td>\n",
       "      <td>Hart</td>\n",
       "      <td>Female</td>\n",
       "      <td>New Mexico</td>\n",
       "      <td>36</td>\n",
       "      <td>1/1/2017</td>\n",
       "      <td>0</td>\n",
       "      <td>single</td>\n",
       "      <td>59285</td>\n",
       "    </tr>\n",
       "    <tr>\n",
       "      <th>2</th>\n",
       "      <td>65803</td>\n",
       "      <td>Kenneth</td>\n",
       "      <td>Farley</td>\n",
       "      <td>Male</td>\n",
       "      <td>Idaho</td>\n",
       "      <td>35</td>\n",
       "      <td>1/1/2017</td>\n",
       "      <td>2</td>\n",
       "      <td>married</td>\n",
       "      <td>99568</td>\n",
       "    </tr>\n",
       "    <tr>\n",
       "      <th>3</th>\n",
       "      <td>125935</td>\n",
       "      <td>Michelle</td>\n",
       "      <td>Hicks</td>\n",
       "      <td>Female</td>\n",
       "      <td>Iowa</td>\n",
       "      <td>40</td>\n",
       "      <td>1/1/2017</td>\n",
       "      <td>0</td>\n",
       "      <td>single</td>\n",
       "      <td>42049</td>\n",
       "    </tr>\n",
       "    <tr>\n",
       "      <th>4</th>\n",
       "      <td>130797</td>\n",
       "      <td>Ann</td>\n",
       "      <td>Gilmore</td>\n",
       "      <td>Female</td>\n",
       "      <td>Maryland</td>\n",
       "      <td>26</td>\n",
       "      <td>1/1/2017</td>\n",
       "      <td>1</td>\n",
       "      <td>married</td>\n",
       "      <td>40374</td>\n",
       "    </tr>\n",
       "  </tbody>\n",
       "</table>\n",
       "</div>"
      ],
      "text/plain": [
       "   user_id First Name    Surnam  Gender       STATE  Age date_joined  \\\n",
       "0    26711    Deborah  Esquivel  Female    Missouri   48    1/1/2017   \n",
       "1    33890   Patricia      Hart  Female  New Mexico   36    1/1/2017   \n",
       "2    65803    Kenneth    Farley    Male       Idaho   35    1/1/2017   \n",
       "3   125935   Michelle     Hicks  Female        Iowa   40    1/1/2017   \n",
       "4   130797        Ann   Gilmore  Female    Maryland   26    1/1/2017   \n",
       "\n",
       "   n_dependants fam_status  income  \n",
       "0             3    married  165665  \n",
       "1             0     single   59285  \n",
       "2             2    married   99568  \n",
       "3             0     single   42049  \n",
       "4             1    married   40374  "
      ]
     },
     "execution_count": 71,
     "metadata": {},
     "output_type": "execute_result"
    }
   ],
   "source": [
    "df_customers.head()"
   ]
  },
  {
   "cell_type": "code",
   "execution_count": 72,
   "id": "e6e4ea00",
   "metadata": {},
   "outputs": [
    {
     "data": {
      "text/plain": [
       "(206209, 10)"
      ]
     },
     "execution_count": 72,
     "metadata": {},
     "output_type": "execute_result"
    }
   ],
   "source": [
    "df_customers.shape"
   ]
  },
  {
   "cell_type": "code",
   "execution_count": 73,
   "id": "94904f68",
   "metadata": {},
   "outputs": [
    {
     "data": {
      "text/html": [
       "<div>\n",
       "<style scoped>\n",
       "    .dataframe tbody tr th:only-of-type {\n",
       "        vertical-align: middle;\n",
       "    }\n",
       "\n",
       "    .dataframe tbody tr th {\n",
       "        vertical-align: top;\n",
       "    }\n",
       "\n",
       "    .dataframe thead th {\n",
       "        text-align: right;\n",
       "    }\n",
       "</style>\n",
       "<table border=\"1\" class=\"dataframe\">\n",
       "  <thead>\n",
       "    <tr style=\"text-align: right;\">\n",
       "      <th></th>\n",
       "      <th>user_id</th>\n",
       "      <th>Age</th>\n",
       "      <th>n_dependants</th>\n",
       "      <th>income</th>\n",
       "    </tr>\n",
       "  </thead>\n",
       "  <tbody>\n",
       "    <tr>\n",
       "      <th>count</th>\n",
       "      <td>206209.000000</td>\n",
       "      <td>206209.000000</td>\n",
       "      <td>206209.000000</td>\n",
       "      <td>206209.000000</td>\n",
       "    </tr>\n",
       "    <tr>\n",
       "      <th>mean</th>\n",
       "      <td>103105.000000</td>\n",
       "      <td>49.501646</td>\n",
       "      <td>1.499823</td>\n",
       "      <td>94632.852548</td>\n",
       "    </tr>\n",
       "    <tr>\n",
       "      <th>std</th>\n",
       "      <td>59527.555167</td>\n",
       "      <td>18.480962</td>\n",
       "      <td>1.118433</td>\n",
       "      <td>42473.786988</td>\n",
       "    </tr>\n",
       "    <tr>\n",
       "      <th>min</th>\n",
       "      <td>1.000000</td>\n",
       "      <td>18.000000</td>\n",
       "      <td>0.000000</td>\n",
       "      <td>25903.000000</td>\n",
       "    </tr>\n",
       "    <tr>\n",
       "      <th>25%</th>\n",
       "      <td>51553.000000</td>\n",
       "      <td>33.000000</td>\n",
       "      <td>0.000000</td>\n",
       "      <td>59874.000000</td>\n",
       "    </tr>\n",
       "    <tr>\n",
       "      <th>50%</th>\n",
       "      <td>103105.000000</td>\n",
       "      <td>49.000000</td>\n",
       "      <td>1.000000</td>\n",
       "      <td>93547.000000</td>\n",
       "    </tr>\n",
       "    <tr>\n",
       "      <th>75%</th>\n",
       "      <td>154657.000000</td>\n",
       "      <td>66.000000</td>\n",
       "      <td>3.000000</td>\n",
       "      <td>124244.000000</td>\n",
       "    </tr>\n",
       "    <tr>\n",
       "      <th>max</th>\n",
       "      <td>206209.000000</td>\n",
       "      <td>81.000000</td>\n",
       "      <td>3.000000</td>\n",
       "      <td>593901.000000</td>\n",
       "    </tr>\n",
       "  </tbody>\n",
       "</table>\n",
       "</div>"
      ],
      "text/plain": [
       "             user_id            Age   n_dependants         income\n",
       "count  206209.000000  206209.000000  206209.000000  206209.000000\n",
       "mean   103105.000000      49.501646       1.499823   94632.852548\n",
       "std     59527.555167      18.480962       1.118433   42473.786988\n",
       "min         1.000000      18.000000       0.000000   25903.000000\n",
       "25%     51553.000000      33.000000       0.000000   59874.000000\n",
       "50%    103105.000000      49.000000       1.000000   93547.000000\n",
       "75%    154657.000000      66.000000       3.000000  124244.000000\n",
       "max    206209.000000      81.000000       3.000000  593901.000000"
      ]
     },
     "execution_count": 73,
     "metadata": {},
     "output_type": "execute_result"
    }
   ],
   "source": [
    "df_customers.describe()"
   ]
  },
  {
   "cell_type": "markdown",
   "id": "f5b2e519",
   "metadata": {},
   "source": [
    "## 2. Update Column Types and Names"
   ]
  },
  {
   "cell_type": "markdown",
   "id": "87a057b4",
   "metadata": {},
   "source": [
    "2.1 Check & update column data types"
   ]
  },
  {
   "cell_type": "code",
   "execution_count": 74,
   "id": "57d19e44",
   "metadata": {},
   "outputs": [],
   "source": [
    "# update user_id from int to str\n",
    "df_customers['user_id'] = df_customers['user_id'].astype('str')"
   ]
  },
  {
   "cell_type": "code",
   "execution_count": 75,
   "id": "b42523ee",
   "metadata": {},
   "outputs": [],
   "source": [
    "df_customers['date_joined'] = pd.to_datetime(df_customers['date_joined'])"
   ]
  },
  {
   "cell_type": "code",
   "execution_count": 76,
   "id": "f82ec41a",
   "metadata": {},
   "outputs": [
    {
     "name": "stdout",
     "output_type": "stream",
     "text": [
      "<class 'pandas.core.frame.DataFrame'>\n",
      "RangeIndex: 206209 entries, 0 to 206208\n",
      "Data columns (total 10 columns):\n",
      " #   Column        Non-Null Count   Dtype         \n",
      "---  ------        --------------   -----         \n",
      " 0   user_id       206209 non-null  object        \n",
      " 1   First Name    194950 non-null  object        \n",
      " 2   Surnam        206209 non-null  object        \n",
      " 3   Gender        206209 non-null  object        \n",
      " 4   STATE         206209 non-null  object        \n",
      " 5   Age           206209 non-null  int64         \n",
      " 6   date_joined   206209 non-null  datetime64[ns]\n",
      " 7   n_dependants  206209 non-null  int64         \n",
      " 8   fam_status    206209 non-null  object        \n",
      " 9   income        206209 non-null  int64         \n",
      "dtypes: datetime64[ns](1), int64(3), object(6)\n",
      "memory usage: 15.7+ MB\n"
     ]
    }
   ],
   "source": [
    "df_customers.info()"
   ]
  },
  {
   "cell_type": "code",
   "execution_count": 83,
   "id": "7479b085",
   "metadata": {},
   "outputs": [
    {
     "name": "stdout",
     "output_type": "stream",
     "text": [
      "First Name\n"
     ]
    }
   ],
   "source": [
    "#code to check for columns that have mixed data type\n",
    "for col in df_customers.columns.tolist():\n",
    "    weird = (df_customers[[col]].map(type) != df_customers[[col]].iloc[0].apply(type)).any(axis=1)\n",
    "    if len(df_customers[weird]) > 0:\n",
    "        print(col)"
   ]
  },
  {
   "cell_type": "code",
   "execution_count": 84,
   "id": "2b0bdd18",
   "metadata": {},
   "outputs": [],
   "source": [
    "# casting first_name to string as its a mixed type\n",
    "df_customers['First Name'] = df_customers['First Name'].astype('str')"
   ]
  },
  {
   "cell_type": "markdown",
   "id": "0cbe4dc4",
   "metadata": {},
   "source": [
    "# Observations\n",
    "#First name has mixed types. Casted the columb to string"
   ]
  },
  {
   "cell_type": "markdown",
   "id": "74fd37ea",
   "metadata": {},
   "source": [
    "## 2.2 Update column names"
   ]
  },
  {
   "cell_type": "code",
   "execution_count": 86,
   "id": "f1bfe08e",
   "metadata": {},
   "outputs": [],
   "source": [
    "#rename first name, surnam, gender, state and age\n",
    "df_customers.rename(columns={\"First Name\": \"first_name\", \"Surname\": \"last_name\", \"Gender\": \"gender\", \"STATE\": \"state\",\n",
    "                             \"Age\": \"age\"}, inplace=True)"
   ]
  },
  {
   "cell_type": "code",
   "execution_count": 87,
   "id": "8f111059",
   "metadata": {},
   "outputs": [
    {
     "name": "stdout",
     "output_type": "stream",
     "text": [
      "<class 'pandas.core.frame.DataFrame'>\n",
      "RangeIndex: 206209 entries, 0 to 206208\n",
      "Data columns (total 10 columns):\n",
      " #   Column        Non-Null Count   Dtype         \n",
      "---  ------        --------------   -----         \n",
      " 0   user_id       206209 non-null  object        \n",
      " 1   first_name    206209 non-null  object        \n",
      " 2   Surnam        206209 non-null  object        \n",
      " 3   gender        206209 non-null  object        \n",
      " 4   state         206209 non-null  object        \n",
      " 5   age           206209 non-null  int64         \n",
      " 6   date_joined   206209 non-null  datetime64[ns]\n",
      " 7   n_dependants  206209 non-null  int64         \n",
      " 8   fam_status    206209 non-null  object        \n",
      " 9   income        206209 non-null  int64         \n",
      "dtypes: datetime64[ns](1), int64(3), object(6)\n",
      "memory usage: 15.7+ MB\n"
     ]
    }
   ],
   "source": [
    "df_customers.info()"
   ]
  },
  {
   "cell_type": "markdown",
   "id": "0e09d91f",
   "metadata": {},
   "source": [
    "## 3. Conduct Consistency Checks"
   ]
  },
  {
   "cell_type": "markdown",
   "id": "7beca423",
   "metadata": {},
   "source": [
    "3.1 Missing Values"
   ]
  },
  {
   "cell_type": "code",
   "execution_count": 89,
   "id": "018d6b8c",
   "metadata": {},
   "outputs": [
    {
     "data": {
      "text/plain": [
       "Index([], dtype='object')"
      ]
     },
     "execution_count": 89,
     "metadata": {},
     "output_type": "execute_result"
    }
   ],
   "source": [
    "# check columns with missing values\n",
    "df_customers.columns[df_customers.isnull().any()]"
   ]
  },
  {
   "cell_type": "code",
   "execution_count": 90,
   "id": "8ce51519",
   "metadata": {},
   "outputs": [
    {
     "data": {
      "text/plain": [
       "0"
      ]
     },
     "execution_count": 90,
     "metadata": {},
     "output_type": "execute_result"
    }
   ],
   "source": [
    "df_customers['first_name'].isnull().sum()"
   ]
  },
  {
   "cell_type": "code",
   "execution_count": 93,
   "id": "4b615d0e",
   "metadata": {},
   "outputs": [
    {
     "data": {
      "text/plain": [
       "income\n",
       "57192     10\n",
       "95891     10\n",
       "95710     10\n",
       "97532      9\n",
       "98675      9\n",
       "          ..\n",
       "73141      1\n",
       "71524      1\n",
       "74408      1\n",
       "44780      1\n",
       "148828     1\n",
       "Name: count, Length: 108012, dtype: int64"
      ]
     },
     "execution_count": 93,
     "metadata": {},
     "output_type": "execute_result"
    }
   ],
   "source": [
    "# checking for missing values in income\n",
    "df_customers['income'].value_counts(dropna=False, sort=True)"
   ]
  },
  {
   "cell_type": "markdown",
   "id": "d3b46926",
   "metadata": {},
   "source": [
    "### Observation: \n",
    "1. first_name has 11,259 null has values. No action required \n",
    "2. No misisng values in income\"\n"
   ]
  },
  {
   "cell_type": "markdown",
   "id": "334ae25a",
   "metadata": {},
   "source": [
    "## 3.2 Consistency Checks"
   ]
  },
  {
   "cell_type": "markdown",
   "id": "9689945c",
   "metadata": {},
   "source": [
    "#### Gender"
   ]
  },
  {
   "cell_type": "code",
   "execution_count": 94,
   "id": "01da7934",
   "metadata": {},
   "outputs": [
    {
     "data": {
      "text/plain": [
       "gender\n",
       "Male      104067\n",
       "Female    102142\n",
       "Name: count, dtype: int64"
      ]
     },
     "execution_count": 94,
     "metadata": {},
     "output_type": "execute_result"
    }
   ],
   "source": [
    "#check value types and counts of gender\n",
    "df_customers['gender'].value_counts(dropna=False)"
   ]
  },
  {
   "cell_type": "markdown",
   "id": "68e2215a",
   "metadata": {},
   "source": [
    "## Observations:\n",
    "    1. Gender: no change required"
   ]
  },
  {
   "cell_type": "markdown",
   "id": "70522deb",
   "metadata": {},
   "source": [
    "## State"
   ]
  },
  {
   "cell_type": "code",
   "execution_count": 95,
   "id": "eae5e1bc",
   "metadata": {},
   "outputs": [
    {
     "data": {
      "text/plain": [
       "51"
      ]
     },
     "execution_count": 95,
     "metadata": {},
     "output_type": "execute_result"
    }
   ],
   "source": [
    "df_customers['state'].nunique()"
   ]
  },
  {
   "cell_type": "code",
   "execution_count": 96,
   "id": "ac7d74a2",
   "metadata": {},
   "outputs": [
    {
     "data": {
      "text/plain": [
       "state\n",
       "Florida                 4044\n",
       "Colorado                4044\n",
       "Illinois                4044\n",
       "Alabama                 4044\n",
       "District of Columbia    4044\n",
       "Hawaii                  4044\n",
       "Arizona                 4044\n",
       "Connecticut             4044\n",
       "California              4044\n",
       "Indiana                 4044\n",
       "Arkansas                4044\n",
       "Alaska                  4044\n",
       "Delaware                4044\n",
       "Iowa                    4044\n",
       "Idaho                   4044\n",
       "Georgia                 4044\n",
       "Wyoming                 4043\n",
       "Mississippi             4043\n",
       "Oklahoma                4043\n",
       "Utah                    4043\n",
       "New Hampshire           4043\n",
       "Kentucky                4043\n",
       "Maryland                4043\n",
       "Rhode Island            4043\n",
       "Massachusetts           4043\n",
       "Michigan                4043\n",
       "New Jersey              4043\n",
       "Kansas                  4043\n",
       "South Dakota            4043\n",
       "Minnesota               4043\n",
       "Tennessee               4043\n",
       "New York                4043\n",
       "Washington              4043\n",
       "Louisiana               4043\n",
       "Montana                 4043\n",
       "North Dakota            4043\n",
       "Wisconsin               4043\n",
       "Nebraska                4043\n",
       "Vermont                 4043\n",
       "Nevada                  4043\n",
       "Maine                   4043\n",
       "North Carolina          4043\n",
       "West Virginia           4043\n",
       "Virginia                4043\n",
       "Oregon                  4043\n",
       "New Mexico              4043\n",
       "Texas                   4043\n",
       "Pennsylvania            4043\n",
       "Ohio                    4043\n",
       "South Carolina          4043\n",
       "Missouri                4043\n",
       "Name: count, dtype: int64"
      ]
     },
     "execution_count": 96,
     "metadata": {},
     "output_type": "execute_result"
    }
   ],
   "source": [
    "# list states to check for duplicates and error names.\n",
    "df_customers['state'].value_counts(dropna=False)"
   ]
  },
  {
   "cell_type": "markdown",
   "id": "61650b7c",
   "metadata": {},
   "source": [
    "## Observations\n",
    "    1. 51 distinct states noted\n",
    "    2. District of Columbia is considered as state hence why its 51 and not 50\n",
    "    3. Customer's are almost equally split between all states (4043, 4044)"
   ]
  },
  {
   "cell_type": "markdown",
   "id": "941e476b",
   "metadata": {},
   "source": [
    "## Age"
   ]
  },
  {
   "cell_type": "code",
   "execution_count": 97,
   "id": "6f9853a2",
   "metadata": {},
   "outputs": [
    {
     "data": {
      "text/plain": [
       "count    206209.000000\n",
       "mean         49.501646\n",
       "std          18.480962\n",
       "min          18.000000\n",
       "25%          33.000000\n",
       "50%          49.000000\n",
       "75%          66.000000\n",
       "max          81.000000\n",
       "Name: age, dtype: float64"
      ]
     },
     "execution_count": 97,
     "metadata": {},
     "output_type": "execute_result"
    }
   ],
   "source": [
    "df_customers['age'].describe()"
   ]
  },
  {
   "cell_type": "code",
   "execution_count": 98,
   "id": "5df72b42",
   "metadata": {},
   "outputs": [
    {
     "data": {
      "text/plain": [
       "age\n",
       "19    3329\n",
       "55    3317\n",
       "51    3317\n",
       "56    3306\n",
       "32    3305\n",
       "      ... \n",
       "65    3145\n",
       "25    3127\n",
       "66    3114\n",
       "50    3102\n",
       "36    3101\n",
       "Name: count, Length: 64, dtype: int64"
      ]
     },
     "execution_count": 98,
     "metadata": {},
     "output_type": "execute_result"
    }
   ],
   "source": [
    "#checking for any null values or odd ages\n",
    "df_customers['age'].value_counts()"
   ]
  },
  {
   "cell_type": "code",
   "execution_count": 100,
   "id": "709b5674",
   "metadata": {},
   "outputs": [
    {
     "data": {
      "text/plain": [
       "Text(0.5, 1.0, 'Age Distribution')"
      ]
     },
     "execution_count": 100,
     "metadata": {},
     "output_type": "execute_result"
    },
    {
     "data": {
      "image/png": "[encoded data removed]",
      "text/plain": [
       "<Figure size 640x480 with 1 Axes>"
      ]
     },
     "metadata": {},
     "output_type": "display_data"
    }
   ],
   "source": [
    "# checking distribution of age\\n\n",
    "df_customers['age'].plot.hist(bins=20, xlabel='Age')\n",
    "plt.title('Age Distribution', fontsize=13)\n",
    "    "
   ]
  },
  {
   "cell_type": "markdown",
   "id": "757005ae",
   "metadata": {},
   "source": [
    "## Observations\n",
    "     1. No missing values in age\n",
    "     2. Age min and max appear within expected ranges\n",
    "     3. Age distribution idenfities no outlier.\n",
    "     4. Age is distribution appears to have peaks for ages 20, 40, 60 and 80\n",
    " "
   ]
  },
  {
   "cell_type": "markdown",
   "id": "662c2e52",
   "metadata": {},
   "source": [
    "## Date joined"
   ]
  },
  {
   "cell_type": "code",
   "execution_count": 102,
   "id": "187c136d",
   "metadata": {},
   "outputs": [
    {
     "data": {
      "text/plain": [
       "Timestamp('2017-01-01 00:00:00')"
      ]
     },
     "execution_count": 102,
     "metadata": {},
     "output_type": "execute_result"
    }
   ],
   "source": [
    "# min value\n",
    "df_customers['date_joined'].min()\n"
   ]
  },
  {
   "cell_type": "code",
   "execution_count": 103,
   "id": "78c3fdd3",
   "metadata": {},
   "outputs": [
    {
     "data": {
      "text/plain": [
       "Timestamp('2020-04-01 00:00:00')"
      ]
     },
     "execution_count": 103,
     "metadata": {},
     "output_type": "execute_result"
    }
   ],
   "source": [
    "#max value\n",
    "df_customers['date_joined'].max()"
   ]
  },
  {
   "cell_type": "code",
   "execution_count": 104,
   "id": "fdc894a0",
   "metadata": {},
   "outputs": [
    {
     "data": {
      "text/plain": [
       "date_joined\n",
       "2017-01-01    159\n",
       "2017-01-02    154\n",
       "2017-01-03    169\n",
       "2017-01-04    188\n",
       "2017-01-05    177\n",
       "             ... \n",
       "2020-03-28    197\n",
       "2020-03-29    171\n",
       "2020-03-30    165\n",
       "2020-03-31    149\n",
       "2020-04-01    169\n",
       "Name: count, Length: 1187, dtype: int64"
      ]
     },
     "execution_count": 104,
     "metadata": {},
     "output_type": "execute_result"
    }
   ],
   "source": [
    "#value counts\n",
    "df_customers['date_joined'].value_counts(dropna=False, sort=False)\n",
    " "
   ]
  },
  {
   "cell_type": "markdown",
   "id": "ae05abbc",
   "metadata": {},
   "source": [
    "## Observations:\n",
    "     1. Date joined dates are from 2017-01-01 to 2020-04-01\n",
    "     2. No consistency or missing values in date_joined"
   ]
  },
  {
   "cell_type": "markdown",
   "id": "fc59f084",
   "metadata": {},
   "source": [
    "## n_dependants"
   ]
  },
  {
   "cell_type": "code",
   "execution_count": 105,
   "id": "7f6ee0cb",
   "metadata": {},
   "outputs": [
    {
     "data": {
      "text/plain": [
       "n_dependants\n",
       "0    51602\n",
       "3    51594\n",
       "1    51531\n",
       "2    51482\n",
       "Name: count, dtype: int64"
      ]
     },
     "execution_count": 105,
     "metadata": {},
     "output_type": "execute_result"
    }
   ],
   "source": [
    "#value counts of n_dependants\n",
    "df_customers['n_dependants'].value_counts(dropna=False)"
   ]
  },
  {
   "cell_type": "code",
   "execution_count": 107,
   "id": "b86ea09d",
   "metadata": {},
   "outputs": [
    {
     "data": {
      "text/plain": [
       "Text(0.5, 1.0, '# Dependants Distribution')"
      ]
     },
     "execution_count": 107,
     "metadata": {},
     "output_type": "execute_result"
    },
    {
     "data": {
      "image/png": "[encoded data removed]",
      "text/plain": [
       "<Figure size 640x480 with 1 Axes>"
      ]
     },
     "metadata": {},
     "output_type": "display_data"
    }
   ],
   "source": [
    "df_customers['n_dependants'].value_counts(dropna=True).sort_index().plot.bar(color=['green'], ylabel='Frequency', xlabel='# of dependants')\n",
    "plt.title('# Dependants Distribution', fontsize=14)"
   ]
  },
  {
   "cell_type": "markdown",
   "id": "c1b3d03a",
   "metadata": {},
   "source": [
    "## Observations\n",
    "    \n",
    "    1. No missing or inconsistent values in n_dependants\n",
    "    2. dependants range from 0-4. 4 value types\n",
    "    3. Number of dependants are equally distributed."
   ]
  },
  {
   "cell_type": "markdown",
   "id": "66130644",
   "metadata": {},
   "source": [
    "## fam_status"
   ]
  },
  {
   "cell_type": "code",
   "execution_count": 108,
   "id": "e139af91",
   "metadata": {},
   "outputs": [
    {
     "data": {
      "text/plain": [
       "fam_status\n",
       "married                             144906\n",
       "single                               33962\n",
       "divorced/widowed                     17640\n",
       "living with parents and siblings      9701\n",
       "Name: count, dtype: int64"
      ]
     },
     "execution_count": 108,
     "metadata": {},
     "output_type": "execute_result"
    }
   ],
   "source": [
    "df_customers['fam_status'].value_counts(dropna=False)"
   ]
  },
  {
   "cell_type": "code",
   "execution_count": 112,
   "id": "96894ecc",
   "metadata": {},
   "outputs": [
    {
     "data": {
      "image/png": "[encoded data removed]",
      "text/plain": [
       "<Figure size 640x480 with 1 Axes>"
      ]
     },
     "metadata": {},
     "output_type": "display_data"
    }
   ],
   "source": [
    "#plot bar chart to see the distribution of the fam_status values\n",
    "barh_fam_status = df_customers['fam_status'].value_counts(dropna=False).plot.barh(xlabel=\"Number of customers\", ylabel='Family status')\n",
    "barh_fam_status.xaxis.set_major_formatter(mpl.ticker.FuncFormatter(lambda y, pos: format(y/1000,'1.0f')+'K'))\n"
   ]
  },
  {
   "cell_type": "markdown",
   "id": "6392b37a",
   "metadata": {},
   "source": [
    "## Income"
   ]
  },
  {
   "cell_type": "code",
   "execution_count": 113,
   "id": "10c88ad5",
   "metadata": {},
   "outputs": [
    {
     "data": {
      "text/plain": [
       "count    206209.000000\n",
       "mean      94632.852548\n",
       "std       42473.786988\n",
       "min       25903.000000\n",
       "25%       59874.000000\n",
       "50%       93547.000000\n",
       "75%      124244.000000\n",
       "max      593901.000000\n",
       "Name: income, dtype: float64"
      ]
     },
     "execution_count": 113,
     "metadata": {},
     "output_type": "execute_result"
    }
   ],
   "source": [
    "df_customers['income'].describe()"
   ]
  },
  {
   "cell_type": "code",
   "execution_count": 114,
   "id": "ffdcbeb2",
   "metadata": {},
   "outputs": [
    {
     "data": {
      "text/plain": [
       "93547.0"
      ]
     },
     "execution_count": 114,
     "metadata": {},
     "output_type": "execute_result"
    }
   ],
   "source": [
    "df_customers['income'].median()"
   ]
  },
  {
   "cell_type": "code",
   "execution_count": 116,
   "id": "2735b0a5",
   "metadata": {},
   "outputs": [
    {
     "name": "stderr",
     "output_type": "stream",
     "text": [
      "C:\\Users\\Raghu\\anaconda3\\Lib\\site-packages\\seaborn\\_oldcore.py:1498: FutureWarning: is_categorical_dtype is deprecated and will be removed in a future version. Use isinstance(dtype, CategoricalDtype) instead\n",
      "  if pd.api.types.is_categorical_dtype(vector):\n",
      "C:\\Users\\Raghu\\anaconda3\\Lib\\site-packages\\seaborn\\_oldcore.py:1498: FutureWarning: is_categorical_dtype is deprecated and will be removed in a future version. Use isinstance(dtype, CategoricalDtype) instead\n",
      "  if pd.api.types.is_categorical_dtype(vector):\n"
     ]
    },
    {
     "data": {
      "text/plain": [
       "<Axes: xlabel='income', ylabel='income'>"
      ]
     },
     "execution_count": 116,
     "metadata": {},
     "output_type": "execute_result"
    },
    {
     "data": {
      "image/png": "[encoded data removed]",
      "text/plain": [
       "<Figure size 640x480 with 1 Axes>"
      ]
     },
     "metadata": {},
     "output_type": "display_data"
    }
   ],
   "source": [
    "#scatterplot to identify any outliers in income column\n",
    "sns.scatterplot(x=\"income\", y=\"income\", data=df_customers)"
   ]
  },
  {
   "cell_type": "code",
   "execution_count": 117,
   "id": "9037460c",
   "metadata": {},
   "outputs": [
    {
     "data": {
      "text/plain": [
       "<Axes: ylabel='Frequency'>"
      ]
     },
     "execution_count": 117,
     "metadata": {},
     "output_type": "execute_result"
    },
    {
     "data": {
      "image/png": "[encoded data removed]",
      "text/plain": [
       "<Figure size 640x480 with 1 Axes>"
      ]
     },
     "metadata": {},
     "output_type": "display_data"
    }
   ],
   "source": [
    "bins = [100000,200000,300000,400000, 500000]\n",
    "df_customers['income'].plot.hist(bins=25)"
   ]
  },
  {
   "cell_type": "code",
   "execution_count": 119,
   "id": "9b9d4bec",
   "metadata": {},
   "outputs": [
    {
     "data": {
      "text/html": [
       "<div>\n",
       "<style scoped>\n",
       "    .dataframe tbody tr th:only-of-type {\n",
       "        vertical-align: middle;\n",
       "    }\n",
       "\n",
       "    .dataframe tbody tr th {\n",
       "        vertical-align: top;\n",
       "    }\n",
       "\n",
       "    .dataframe thead th {\n",
       "        text-align: right;\n",
       "    }\n",
       "</style>\n",
       "<table border=\"1\" class=\"dataframe\">\n",
       "  <thead>\n",
       "    <tr style=\"text-align: right;\">\n",
       "      <th></th>\n",
       "      <th>user_id</th>\n",
       "      <th>first_name</th>\n",
       "      <th>Surnam</th>\n",
       "      <th>gender</th>\n",
       "      <th>state</th>\n",
       "      <th>age</th>\n",
       "      <th>date_joined</th>\n",
       "      <th>n_dependants</th>\n",
       "      <th>fam_status</th>\n",
       "      <th>income</th>\n",
       "    </tr>\n",
       "  </thead>\n",
       "  <tbody>\n",
       "    <tr>\n",
       "      <th>979</th>\n",
       "      <td>200930</td>\n",
       "      <td>Charles</td>\n",
       "      <td>Nichols</td>\n",
       "      <td>Male</td>\n",
       "      <td>South Carolina</td>\n",
       "      <td>60</td>\n",
       "      <td>2017-01-06</td>\n",
       "      <td>1</td>\n",
       "      <td>married</td>\n",
       "      <td>300913</td>\n",
       "    </tr>\n",
       "    <tr>\n",
       "      <th>86870</th>\n",
       "      <td>71498</td>\n",
       "      <td>Gloria</td>\n",
       "      <td>Stafford</td>\n",
       "      <td>Female</td>\n",
       "      <td>Virginia</td>\n",
       "      <td>69</td>\n",
       "      <td>2018-05-14</td>\n",
       "      <td>3</td>\n",
       "      <td>married</td>\n",
       "      <td>302234</td>\n",
       "    </tr>\n",
       "    <tr>\n",
       "      <th>138764</th>\n",
       "      <td>151552</td>\n",
       "      <td>Mark</td>\n",
       "      <td>Neal</td>\n",
       "      <td>Male</td>\n",
       "      <td>Oklahoma</td>\n",
       "      <td>71</td>\n",
       "      <td>2019-03-11</td>\n",
       "      <td>1</td>\n",
       "      <td>married</td>\n",
       "      <td>302363</td>\n",
       "    </tr>\n",
       "    <tr>\n",
       "      <th>47787</th>\n",
       "      <td>205650</td>\n",
       "      <td>Jeremy</td>\n",
       "      <td>Vang</td>\n",
       "      <td>Male</td>\n",
       "      <td>Kentucky</td>\n",
       "      <td>62</td>\n",
       "      <td>2017-10-02</td>\n",
       "      <td>0</td>\n",
       "      <td>divorced/widowed</td>\n",
       "      <td>302526</td>\n",
       "    </tr>\n",
       "    <tr>\n",
       "      <th>58395</th>\n",
       "      <td>77541</td>\n",
       "      <td>Kimberly</td>\n",
       "      <td>Anderson</td>\n",
       "      <td>Female</td>\n",
       "      <td>Montana</td>\n",
       "      <td>25</td>\n",
       "      <td>2017-12-03</td>\n",
       "      <td>2</td>\n",
       "      <td>married</td>\n",
       "      <td>302561</td>\n",
       "    </tr>\n",
       "    <tr>\n",
       "      <th>...</th>\n",
       "      <td>...</td>\n",
       "      <td>...</td>\n",
       "      <td>...</td>\n",
       "      <td>...</td>\n",
       "      <td>...</td>\n",
       "      <td>...</td>\n",
       "      <td>...</td>\n",
       "      <td>...</td>\n",
       "      <td>...</td>\n",
       "      <td>...</td>\n",
       "    </tr>\n",
       "    <tr>\n",
       "      <th>167037</th>\n",
       "      <td>189861</td>\n",
       "      <td>Pamela</td>\n",
       "      <td>Jordan</td>\n",
       "      <td>Female</td>\n",
       "      <td>Pennsylvania</td>\n",
       "      <td>47</td>\n",
       "      <td>2019-08-21</td>\n",
       "      <td>0</td>\n",
       "      <td>single</td>\n",
       "      <td>584097</td>\n",
       "    </tr>\n",
       "    <tr>\n",
       "      <th>111950</th>\n",
       "      <td>187680</td>\n",
       "      <td>Catherine</td>\n",
       "      <td>Church</td>\n",
       "      <td>Female</td>\n",
       "      <td>Wyoming</td>\n",
       "      <td>43</td>\n",
       "      <td>2018-10-07</td>\n",
       "      <td>2</td>\n",
       "      <td>married</td>\n",
       "      <td>590790</td>\n",
       "    </tr>\n",
       "    <tr>\n",
       "      <th>81583</th>\n",
       "      <td>103702</td>\n",
       "      <td>Kathryn</td>\n",
       "      <td>Mclaughlin</td>\n",
       "      <td>Female</td>\n",
       "      <td>Louisiana</td>\n",
       "      <td>55</td>\n",
       "      <td>2018-04-14</td>\n",
       "      <td>3</td>\n",
       "      <td>married</td>\n",
       "      <td>591089</td>\n",
       "    </tr>\n",
       "    <tr>\n",
       "      <th>202655</th>\n",
       "      <td>98580</td>\n",
       "      <td>nan</td>\n",
       "      <td>Patterson</td>\n",
       "      <td>Male</td>\n",
       "      <td>Washington</td>\n",
       "      <td>43</td>\n",
       "      <td>2020-03-12</td>\n",
       "      <td>2</td>\n",
       "      <td>married</td>\n",
       "      <td>592409</td>\n",
       "    </tr>\n",
       "    <tr>\n",
       "      <th>21726</th>\n",
       "      <td>58596</td>\n",
       "      <td>Thomas</td>\n",
       "      <td>Cohen</td>\n",
       "      <td>Male</td>\n",
       "      <td>Washington</td>\n",
       "      <td>75</td>\n",
       "      <td>2017-05-06</td>\n",
       "      <td>2</td>\n",
       "      <td>married</td>\n",
       "      <td>593901</td>\n",
       "    </tr>\n",
       "  </tbody>\n",
       "</table>\n",
       "<p>382 rows × 10 columns</p>\n",
       "</div>"
      ],
      "text/plain": [
       "       user_id first_name      Surnam  gender           state  age  \\\n",
       "979     200930    Charles     Nichols    Male  South Carolina   60   \n",
       "86870    71498     Gloria    Stafford  Female        Virginia   69   \n",
       "138764  151552       Mark        Neal    Male        Oklahoma   71   \n",
       "47787   205650     Jeremy        Vang    Male        Kentucky   62   \n",
       "58395    77541   Kimberly    Anderson  Female         Montana   25   \n",
       "...        ...        ...         ...     ...             ...  ...   \n",
       "167037  189861     Pamela      Jordan  Female    Pennsylvania   47   \n",
       "111950  187680  Catherine      Church  Female         Wyoming   43   \n",
       "81583   103702    Kathryn  Mclaughlin  Female       Louisiana   55   \n",
       "202655   98580        nan   Patterson    Male      Washington   43   \n",
       "21726    58596     Thomas       Cohen    Male      Washington   75   \n",
       "\n",
       "       date_joined  n_dependants        fam_status  income  \n",
       "979     2017-01-06             1           married  300913  \n",
       "86870   2018-05-14             3           married  302234  \n",
       "138764  2019-03-11             1           married  302363  \n",
       "47787   2017-10-02             0  divorced/widowed  302526  \n",
       "58395   2017-12-03             2           married  302561  \n",
       "...            ...           ...               ...     ...  \n",
       "167037  2019-08-21             0            single  584097  \n",
       "111950  2018-10-07             2           married  590790  \n",
       "81583   2018-04-14             3           married  591089  \n",
       "202655  2020-03-12             2           married  592409  \n",
       "21726   2017-05-06             2           married  593901  \n",
       "\n",
       "[382 rows x 10 columns]"
      ]
     },
     "execution_count": 119,
     "metadata": {},
     "output_type": "execute_result"
    }
   ],
   "source": [
    "df_check_income = df_customers[df_customers['income'] > 300000]\n",
    "df_check_income.sort_values(by='income', ascending=True,)"
   ]
  },
  {
   "cell_type": "markdown",
   "id": "2aeb5f5f",
   "metadata": {},
   "source": [
    "## Observations\n",
    "    \n",
    "    1. Income's distribution is right skewed where by mean and median are between 93,500 - 94,700\n",
    "    2. There are valid incomes above 300,000, going upto 593,901\n",
    "    3. No outliers found"
   ]
  },
  {
   "cell_type": "markdown",
   "id": "fb9bc63f",
   "metadata": {},
   "source": [
    "## 4. Duplicates Checks"
   ]
  },
  {
   "cell_type": "code",
   "execution_count": 120,
   "id": "460fc313",
   "metadata": {},
   "outputs": [],
   "source": [
    "df_dups = df_customers[df_customers.duplicated()]"
   ]
  },
  {
   "cell_type": "code",
   "execution_count": 121,
   "id": "ef3df7a0",
   "metadata": {},
   "outputs": [
    {
     "data": {
      "text/plain": [
       "(0, 10)"
      ]
     },
     "execution_count": 121,
     "metadata": {},
     "output_type": "execute_result"
    }
   ],
   "source": [
    "df_dups.shape"
   ]
  },
  {
   "cell_type": "markdown",
   "id": "28f3db5d",
   "metadata": {},
   "source": [
    "## Observations: \n",
    "No duplicates"
   ]
  },
  {
   "cell_type": "markdown",
   "id": "36d41cb7",
   "metadata": {},
   "source": [
    "## 5. Combine Orders-Product with Customers"
   ]
  },
  {
   "cell_type": "markdown",
   "id": "6bb77327",
   "metadata": {},
   "source": [
    "##5.1 Import orders-product pickle file"
   ]
  },
  {
   "cell_type": "code",
   "execution_count": 171,
   "id": "eb4ec666",
   "metadata": {},
   "outputs": [],
   "source": [
    "path = r'C:\\\\Users\\\\Raghu\\\\Instacart Basket Analysis\\\\01 Project Management\\\\02 Data\\\\03 Scripts\\\\Prepared Data'"
   ]
  },
  {
   "cell_type": "code",
   "execution_count": 172,
   "id": "4991672f",
   "metadata": {},
   "outputs": [],
   "source": [
    "os.makedirs(os.path.join(path, '02 Data', '03 Scripts', 'Prepared Data'), exist_ok=True)\n"
   ]
  },
  {
   "cell_type": "code",
   "execution_count": 173,
   "id": "eb88bd9b",
   "metadata": {},
   "outputs": [],
   "source": [
    "ords_prods_merge.to_pickle(os.path.join(path, '02 Data', '03 Scripts', 'Prepared Data', 'orders_products_cust_types.pkl'))\n"
   ]
  },
  {
   "cell_type": "code",
   "execution_count": 174,
   "id": "a731a05b",
   "metadata": {},
   "outputs": [],
   "source": [
    "ords_prods_merge.to_pickle(os.path.join(path, '02 Data', '03 Scripts', 'Prepared Data', 'orders_products_cust_types.csv'))\n"
   ]
  },
  {
   "cell_type": "code",
   "execution_count": 180,
   "id": "39f8d658",
   "metadata": {},
   "outputs": [],
   "source": [
    "path = r'C:\\Users\\Raghu\\Instacart Basket Analysis\\01 Project Management\\02 Data\\03 Scripts\\prepared data\\02 Data\\03 Scripts\\Prepared Data\\orders_products_cust_types.csv'"
   ]
  },
  {
   "cell_type": "code",
   "execution_count": 181,
   "id": "0c5b0fb6",
   "metadata": {},
   "outputs": [],
   "source": [
    "file_path = os.path.join(path, '02 Data', 'Prepared Data', 'orders_products_cust_types.csv')\n"
   ]
  },
  {
   "cell_type": "code",
   "execution_count": 185,
   "id": "44ad465a",
   "metadata": {},
   "outputs": [],
   "source": [
    "df_ords_prods = pd.read_pickle(r'C:\\Users\\Raghu\\Instacart Basket Analysis\\01 Project Management\\02 Data\\03 Scripts\\prepared data\\02 Data\\03 Scripts\\Prepared Data\\orders_products_cust_types.pkl')\n"
   ]
  },
  {
   "cell_type": "code",
   "execution_count": 187,
   "id": "aeb34333",
   "metadata": {},
   "outputs": [
    {
     "data": {
      "text/plain": [
       "(1048586, 22)"
      ]
     },
     "execution_count": 187,
     "metadata": {},
     "output_type": "execute_result"
    }
   ],
   "source": [
    "df_ords_prods.shape"
   ]
  },
  {
   "cell_type": "code",
   "execution_count": 188,
   "id": "936d35a6",
   "metadata": {},
   "outputs": [],
   "source": [
    "df_ords_prods['prices'] = df_ords_prods['prices'].astype('float32')"
   ]
  },
  {
   "cell_type": "code",
   "execution_count": 189,
   "id": "0162a607",
   "metadata": {},
   "outputs": [],
   "source": [
    "df_ords_prods['mean_expenses'] = df_ords_prods['prices'].astype('float32')"
   ]
  },
  {
   "cell_type": "code",
   "execution_count": 190,
   "id": "c0f05536",
   "metadata": {},
   "outputs": [
    {
     "name": "stdout",
     "output_type": "stream",
     "text": [
      "<class 'pandas.core.frame.DataFrame'>\n",
      "RangeIndex: 1048586 entries, 0 to 1048585\n",
      "Data columns (total 23 columns):\n",
      " #   Column                  Non-Null Count    Dtype  \n",
      "---  ------                  --------------    -----  \n",
      " 0   Unnamed: 0.1            1048586 non-null  int64  \n",
      " 1   product_id              1048586 non-null  int64  \n",
      " 2   product_name            1047682 non-null  object \n",
      " 3   aisle_id                1048586 non-null  int64  \n",
      " 4   department_id           1048586 non-null  int64  \n",
      " 5   prices                  1048586 non-null  float32\n",
      " 6   Unnamed: 0              1048586 non-null  int64  \n",
      " 7   order_id                1048586 non-null  int64  \n",
      " 8   user_id                 1048586 non-null  int64  \n",
      " 9   order_number            1048586 non-null  int64  \n",
      " 10  order_of_week           1048586 non-null  int64  \n",
      " 11  oder_hour_of _day       1048586 non-null  int64  \n",
      " 12  days_since_prior_order  982072 non-null   float64\n",
      " 13  add_to_cart_order       1048586 non-null  int64  \n",
      " 14  reordered               1048586 non-null  int64  \n",
      " 15  _merge                  1048586 non-null  object \n",
      " 16  merge_indicator         1048586 non-null  object \n",
      " 17  Busiest day             1048586 non-null  object \n",
      " 18  busiest_period_of_day   1048586 non-null  object \n",
      " 19  price_range_loc         1015391 non-null  object \n",
      " 20  median_order_frequency  1048586 non-null  float64\n",
      " 21  order_frequency_flag    1048586 non-null  object \n",
      " 22  mean_expenses           1048586 non-null  float32\n",
      "dtypes: float32(2), float64(2), int64(12), object(7)\n",
      "memory usage: 176.0+ MB\n"
     ]
    }
   ],
   "source": [
    "# checking for _merge column\n",
    "df_ords_prods.info()"
   ]
  },
  {
   "cell_type": "code",
   "execution_count": 191,
   "id": "7318f5d8",
   "metadata": {},
   "outputs": [],
   "source": [
    "# drop the _merge column in df_ords_prod prior to next merge as there is conflict\n",
    "df_ords_prods.drop(columns=['_merge'], inplace=True)"
   ]
  },
  {
   "cell_type": "code",
   "execution_count": 192,
   "id": "07356f55",
   "metadata": {},
   "outputs": [
    {
     "name": "stdout",
     "output_type": "stream",
     "text": [
      "<class 'pandas.core.frame.DataFrame'>\n",
      "RangeIndex: 1048586 entries, 0 to 1048585\n",
      "Data columns (total 22 columns):\n",
      " #   Column                  Non-Null Count    Dtype  \n",
      "---  ------                  --------------    -----  \n",
      " 0   Unnamed: 0.1            1048586 non-null  int64  \n",
      " 1   product_id              1048586 non-null  int64  \n",
      " 2   product_name            1047682 non-null  object \n",
      " 3   aisle_id                1048586 non-null  int64  \n",
      " 4   department_id           1048586 non-null  int64  \n",
      " 5   prices                  1048586 non-null  float32\n",
      " 6   Unnamed: 0              1048586 non-null  int64  \n",
      " 7   order_id                1048586 non-null  int64  \n",
      " 8   user_id                 1048586 non-null  int64  \n",
      " 9   order_number            1048586 non-null  int64  \n",
      " 10  order_of_week           1048586 non-null  int64  \n",
      " 11  oder_hour_of _day       1048586 non-null  int64  \n",
      " 12  days_since_prior_order  982072 non-null   float64\n",
      " 13  add_to_cart_order       1048586 non-null  int64  \n",
      " 14  reordered               1048586 non-null  int64  \n",
      " 15  merge_indicator         1048586 non-null  object \n",
      " 16  Busiest day             1048586 non-null  object \n",
      " 17  busiest_period_of_day   1048586 non-null  object \n",
      " 18  price_range_loc         1015391 non-null  object \n",
      " 19  median_order_frequency  1048586 non-null  float64\n",
      " 20  order_frequency_flag    1048586 non-null  object \n",
      " 21  mean_expenses           1048586 non-null  float32\n",
      "dtypes: float32(2), float64(2), int64(12), object(6)\n",
      "memory usage: 168.0+ MB\n"
     ]
    }
   ],
   "source": [
    "df_ords_prods.info()"
   ]
  },
  {
   "cell_type": "code",
   "execution_count": 194,
   "id": "49b17417",
   "metadata": {},
   "outputs": [],
   "source": [
    "df_customers['user_id'] = df_customers['user_id'].astype(int)\n"
   ]
  },
  {
   "cell_type": "code",
   "execution_count": 195,
   "id": "98a4473c",
   "metadata": {},
   "outputs": [],
   "source": [
    "#merge ords_prods withc customers using user_id\n",
    "df_ords_prods_customers_left = df_ords_prods.merge(df_customers, on=['user_id'], indicator=True)"
   ]
  },
  {
   "cell_type": "code",
   "execution_count": 196,
   "id": "54e83060",
   "metadata": {},
   "outputs": [
    {
     "data": {
      "text/plain": [
       "_merge\n",
       "both          1048586\n",
       "left_only           0\n",
       "right_only          0\n",
       "Name: count, dtype: int64"
      ]
     },
     "execution_count": 196,
     "metadata": {},
     "output_type": "execute_result"
    }
   ],
   "source": [
    "df_ords_prods_customers_left['_merge'].value_counts(dropna=False)"
   ]
  },
  {
   "cell_type": "code",
   "execution_count": 197,
   "id": "d383a708",
   "metadata": {},
   "outputs": [
    {
     "data": {
      "text/plain": [
       "(1048586, 32)"
      ]
     },
     "execution_count": 197,
     "metadata": {},
     "output_type": "execute_result"
    }
   ],
   "source": [
    "df_ords_prods_customers_left.shape"
   ]
  },
  {
   "cell_type": "code",
   "execution_count": 198,
   "id": "c517f309",
   "metadata": {},
   "outputs": [],
   "source": [
    "df_ords_prods_customers_left.drop(columns=['_merge'], inplace=True)"
   ]
  },
  {
   "cell_type": "code",
   "execution_count": 199,
   "id": "8ea36e4c",
   "metadata": {},
   "outputs": [
    {
     "name": "stdout",
     "output_type": "stream",
     "text": [
      "<class 'pandas.core.frame.DataFrame'>\n",
      "RangeIndex: 1048586 entries, 0 to 1048585\n",
      "Data columns (total 31 columns):\n",
      " #   Column                  Non-Null Count    Dtype         \n",
      "---  ------                  --------------    -----         \n",
      " 0   Unnamed: 0.1            1048586 non-null  int64         \n",
      " 1   product_id              1048586 non-null  int64         \n",
      " 2   product_name            1047682 non-null  object        \n",
      " 3   aisle_id                1048586 non-null  int64         \n",
      " 4   department_id           1048586 non-null  int64         \n",
      " 5   prices                  1048586 non-null  float32       \n",
      " 6   Unnamed: 0              1048586 non-null  int64         \n",
      " 7   order_id                1048586 non-null  int64         \n",
      " 8   user_id                 1048586 non-null  int64         \n",
      " 9   order_number            1048586 non-null  int64         \n",
      " 10  order_of_week           1048586 non-null  int64         \n",
      " 11  oder_hour_of _day       1048586 non-null  int64         \n",
      " 12  days_since_prior_order  982072 non-null   float64       \n",
      " 13  add_to_cart_order       1048586 non-null  int64         \n",
      " 14  reordered               1048586 non-null  int64         \n",
      " 15  merge_indicator         1048586 non-null  object        \n",
      " 16  Busiest day             1048586 non-null  object        \n",
      " 17  busiest_period_of_day   1048586 non-null  object        \n",
      " 18  price_range_loc         1015391 non-null  object        \n",
      " 19  median_order_frequency  1048586 non-null  float64       \n",
      " 20  order_frequency_flag    1048586 non-null  object        \n",
      " 21  mean_expenses           1048586 non-null  float32       \n",
      " 22  first_name              1048586 non-null  object        \n",
      " 23  Surnam                  1048586 non-null  object        \n",
      " 24  gender                  1048586 non-null  object        \n",
      " 25  state                   1048586 non-null  object        \n",
      " 26  age                     1048586 non-null  int64         \n",
      " 27  date_joined             1048586 non-null  datetime64[ns]\n",
      " 28  n_dependants            1048586 non-null  int64         \n",
      " 29  fam_status              1048586 non-null  object        \n",
      " 30  income                  1048586 non-null  int64         \n",
      "dtypes: datetime64[ns](1), float32(2), float64(2), int64(15), object(11)\n",
      "memory usage: 240.0+ MB\n"
     ]
    }
   ],
   "source": [
    "df_ords_prods_customers_left.info()"
   ]
  },
  {
   "cell_type": "markdown",
   "id": "1b3f7830",
   "metadata": {},
   "source": [
    "## 5. Export Customer File to PKL"
   ]
  },
  {
   "cell_type": "code",
   "execution_count": 219,
   "id": "31999afe",
   "metadata": {},
   "outputs": [],
   "source": [
    "path = r'C:\\\\Users\\\\Raghu\\\\Instacart Basket Analysis\\\\01 Project Management\\\\02 Data\\\\03 Scripts\\\\Prepared Data'"
   ]
  },
  {
   "cell_type": "code",
   "execution_count": 220,
   "id": "ad67b871",
   "metadata": {},
   "outputs": [],
   "source": [
    "os.makedirs(os.path.join(path, '02 Data', '03 Scripts', 'Prepared Data'), exist_ok=True)\n"
   ]
  },
  {
   "cell_type": "code",
   "execution_count": 221,
   "id": "e07fe263",
   "metadata": {},
   "outputs": [],
   "source": [
    "ords_prods_merge.to_pickle(os.path.join(path, '02 Data', '03 Scripts', 'Prepared Data', 'orders_products_cust_types.pkl'))\n"
   ]
  },
  {
   "cell_type": "code",
   "execution_count": 223,
   "id": "ebc27ab8",
   "metadata": {},
   "outputs": [],
   "source": [
    "import os\n"
   ]
  },
  {
   "cell_type": "code",
   "execution_count": 224,
   "id": "c750618e",
   "metadata": {},
   "outputs": [],
   "source": [
    "output_directory = os.path.join(path, '02 Data', 'Prepared Data' , '03 Scripts' , 'Prepared Data')\n"
   ]
  },
  {
   "cell_type": "code",
   "execution_count": 225,
   "id": "35b6b2e3",
   "metadata": {},
   "outputs": [],
   "source": [
    "os.makedirs(output_directory, exist_ok=True)\n"
   ]
  },
  {
   "cell_type": "code",
   "execution_count": 226,
   "id": "b811a772",
   "metadata": {},
   "outputs": [],
   "source": [
    "df_ords_prods_customers_left.to_pickle(os.path.join(path,'02 Data/Prepared Data/ords_prods_customers_left.pkl'))"
   ]
  },
  {
   "cell_type": "code",
   "execution_count": 227,
   "id": "499b52fc",
   "metadata": {},
   "outputs": [],
   "source": [
    "df_ords_prods_customers_left.to_pickle(os.path.join(path,'02 Data/Prepared Data/ords_prods_customers_left.csv'))"
   ]
  },
  {
   "cell_type": "code",
   "execution_count": null,
   "id": "e03d2bd3",
   "metadata": {},
   "outputs": [],
   "source": []
  }
 ],
 "metadata": {
  "kernelspec": {
   "display_name": "Python 3 (ipykernel)",
   "language": "python",
   "name": "python3"
  },
  "language_info": {
   "codemirror_mode": {
    "name": "ipython",
    "version": 3
   },
   "file_extension": ".py",
   "mimetype": "text/x-python",
   "name": "python",
   "nbconvert_exporter": "python",
   "pygments_lexer": "ipython3",
   "version": "3.11.5"
  }
 },
 "nbformat": 4,
 "nbformat_minor": 5
}
