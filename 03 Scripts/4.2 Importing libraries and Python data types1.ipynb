{
 "cells": [
  {
   "cell_type": "markdown",
   "id": "171109c0",
   "metadata": {},
   "source": [
    "Importing Libraries"
   ]
  },
  {
   "cell_type": "code",
   "execution_count": 1,
   "id": "c11f6eb8",
   "metadata": {},
   "outputs": [],
   "source": [
    "# Import libraries\n",
    "import pandas as pd\n",
    "import numpy as np\n",
    "import os\n"
   ]
  },
  {
   "cell_type": "code",
   "execution_count": 4,
   "id": "7d5ca662",
   "metadata": {},
   "outputs": [],
   "source": [
    "x=50"
   ]
  },
  {
   "cell_type": "code",
   "execution_count": 5,
   "id": "6d03b852",
   "metadata": {},
   "outputs": [],
   "source": [
    "y=30"
   ]
  },
  {
   "cell_type": "code",
   "execution_count": 6,
   "id": "8677665c",
   "metadata": {},
   "outputs": [],
   "source": [
    "z=20"
   ]
  },
  {
   "cell_type": "code",
   "execution_count": 7,
   "id": "e6b17316",
   "metadata": {},
   "outputs": [
    {
     "name": "stdout",
     "output_type": "stream",
     "text": [
      "100\n"
     ]
    }
   ],
   "source": [
    "print(x+y+z)"
   ]
  },
  {
   "cell_type": "code",
   "execution_count": 8,
   "id": "bb1e3ef2",
   "metadata": {},
   "outputs": [],
   "source": [
    "x=200"
   ]
  },
  {
   "cell_type": "code",
   "execution_count": 9,
   "id": "24d1e1f4",
   "metadata": {},
   "outputs": [],
   "source": [
    "y=100"
   ]
  },
  {
   "cell_type": "code",
   "execution_count": 10,
   "id": "a582349c",
   "metadata": {},
   "outputs": [
    {
     "name": "stdout",
     "output_type": "stream",
     "text": [
      "100\n"
     ]
    }
   ],
   "source": [
    "print(x-y)"
   ]
  },
  {
   "cell_type": "code",
   "execution_count": 11,
   "id": "fe14f255",
   "metadata": {},
   "outputs": [],
   "source": [
    "x=50"
   ]
  },
  {
   "cell_type": "code",
   "execution_count": 14,
   "id": "5cf42c48",
   "metadata": {},
   "outputs": [],
   "source": [
    "y=2"
   ]
  },
  {
   "cell_type": "code",
   "execution_count": 15,
   "id": "bb86bdc8",
   "metadata": {},
   "outputs": [
    {
     "name": "stdout",
     "output_type": "stream",
     "text": [
      "100\n"
     ]
    }
   ],
   "source": [
    "print(x*y)"
   ]
  },
  {
   "cell_type": "code",
   "execution_count": 38,
   "id": "8cf9ff63",
   "metadata": {},
   "outputs": [],
   "source": [
    "a = 4.3"
   ]
  },
  {
   "cell_type": "code",
   "execution_count": 39,
   "id": "b1f53aac",
   "metadata": {},
   "outputs": [],
   "source": [
    "b = 6.3"
   ]
  },
  {
   "cell_type": "code",
   "execution_count": 40,
   "id": "f3782e69",
   "metadata": {},
   "outputs": [
    {
     "data": {
      "text/plain": [
       "6.3"
      ]
     },
     "execution_count": 40,
     "metadata": {},
     "output_type": "execute_result"
    }
   ],
   "source": [
    "c = a\n",
    "/ b"
   ]
  },
  {
   "cell_type": "code",
   "execution_count": 54,
   "id": "12647b09",
   "metadata": {},
   "outputs": [],
   "source": [
    "sentence = \"Hello,how-are+you\""
   ]
  },
  {
   "cell_type": "code",
   "execution_count": 55,
   "id": "cb4e5817",
   "metadata": {},
   "outputs": [],
   "source": [
    "words = sentence.split(\",\")"
   ]
  },
  {
   "cell_type": "code",
   "execution_count": 56,
   "id": "6ef34ceb",
   "metadata": {},
   "outputs": [
    {
     "name": "stdout",
     "output_type": "stream",
     "text": [
      "['Hello', 'how-are+you']\n"
     ]
    }
   ],
   "source": [
    "print(words)\n"
   ]
  },
  {
   "cell_type": "code",
   "execution_count": 57,
   "id": "aeb0db6b",
   "metadata": {},
   "outputs": [],
   "source": [
    "sentence = \"Hello, i'm -ragadeepthi+lives in germany\""
   ]
  },
  {
   "cell_type": "code",
   "execution_count": 58,
   "id": "947a52f8",
   "metadata": {},
   "outputs": [],
   "source": [
    "words = sentence.split(\",\")"
   ]
  },
  {
   "cell_type": "code",
   "execution_count": 59,
   "id": "e04fa572",
   "metadata": {},
   "outputs": [
    {
     "name": "stdout",
     "output_type": "stream",
     "text": [
      "['Hello', \" i'm -ragadeepthi+lives in germany\"]\n"
     ]
    }
   ],
   "source": [
    "print(words)\n"
   ]
  },
  {
   "cell_type": "code",
   "execution_count": null,
   "id": "ca6063a3",
   "metadata": {},
   "outputs": [],
   "source": []
  }
 ],
 "metadata": {
  "kernelspec": {
   "display_name": "Python 3 (ipykernel)",
   "language": "python",
   "name": "python3"
  },
  "language_info": {
   "codemirror_mode": {
    "name": "ipython",
    "version": 3
   },
   "file_extension": ".py",
   "mimetype": "text/x-python",
   "name": "python",
   "nbconvert_exporter": "python",
   "pygments_lexer": "ipython3",
   "version": "3.11.5"
  }
 },
 "nbformat": 4,
 "nbformat_minor": 5
}
